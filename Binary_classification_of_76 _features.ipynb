{
 "cells": [
  {
   "cell_type": "markdown",
   "metadata": {},
   "source": [
    "<h2>Importing modules required for running the code</h2>"
   ]
  },
  {
   "cell_type": "code",
   "execution_count": 1,
   "metadata": {},
   "outputs": [
    {
     "name": "stderr",
     "output_type": "stream",
     "text": [
      "Using TensorFlow backend.\n",
      "C:\\Users\\Naresh\\anaconda3\\lib\\site-packages\\tensorflow\\python\\framework\\dtypes.py:526: FutureWarning: Passing (type, 1) or '1type' as a synonym of type is deprecated; in a future version of numpy, it will be understood as (type, (1,)) / '(1,)type'.\n",
      "  _np_qint8 = np.dtype([(\"qint8\", np.int8, 1)])\n",
      "C:\\Users\\Naresh\\anaconda3\\lib\\site-packages\\tensorflow\\python\\framework\\dtypes.py:527: FutureWarning: Passing (type, 1) or '1type' as a synonym of type is deprecated; in a future version of numpy, it will be understood as (type, (1,)) / '(1,)type'.\n",
      "  _np_quint8 = np.dtype([(\"quint8\", np.uint8, 1)])\n",
      "C:\\Users\\Naresh\\anaconda3\\lib\\site-packages\\tensorflow\\python\\framework\\dtypes.py:528: FutureWarning: Passing (type, 1) or '1type' as a synonym of type is deprecated; in a future version of numpy, it will be understood as (type, (1,)) / '(1,)type'.\n",
      "  _np_qint16 = np.dtype([(\"qint16\", np.int16, 1)])\n",
      "C:\\Users\\Naresh\\anaconda3\\lib\\site-packages\\tensorflow\\python\\framework\\dtypes.py:529: FutureWarning: Passing (type, 1) or '1type' as a synonym of type is deprecated; in a future version of numpy, it will be understood as (type, (1,)) / '(1,)type'.\n",
      "  _np_quint16 = np.dtype([(\"quint16\", np.uint16, 1)])\n",
      "C:\\Users\\Naresh\\anaconda3\\lib\\site-packages\\tensorflow\\python\\framework\\dtypes.py:530: FutureWarning: Passing (type, 1) or '1type' as a synonym of type is deprecated; in a future version of numpy, it will be understood as (type, (1,)) / '(1,)type'.\n",
      "  _np_qint32 = np.dtype([(\"qint32\", np.int32, 1)])\n",
      "C:\\Users\\Naresh\\anaconda3\\lib\\site-packages\\tensorflow\\python\\framework\\dtypes.py:535: FutureWarning: Passing (type, 1) or '1type' as a synonym of type is deprecated; in a future version of numpy, it will be understood as (type, (1,)) / '(1,)type'.\n",
      "  np_resource = np.dtype([(\"resource\", np.ubyte, 1)])\n"
     ]
    }
   ],
   "source": [
    "import pandas as pd\n",
    "import numpy\n",
    "from sklearn.preprocessing import LabelEncoder, LabelBinarizer, StandardScaler\n",
    "from keras.utils.np_utils import to_categorical\n",
    "from sklearn.metrics import accuracy_score, classification_report\n",
    "from keras.optimizers import Adam\n",
    "from keras.models import Sequential\n",
    "from keras.layers import Dense, LSTM, Activation, Dropout,Flatten\n",
    "from keras.layers import BatchNormalization\n"
   ]
  },
  {
   "cell_type": "markdown",
   "metadata": {},
   "source": [
    "<h2>Columns Name for our testing and training data </h2>"
   ]
  },
  {
   "cell_type": "code",
   "execution_count": 2,
   "metadata": {},
   "outputs": [],
   "source": [
    "features = ['frame.interface_id',\n",
    " 'frame.dlt',\n",
    " 'frame.offset_shift',\n",
    " 'frame.time_epoch',\n",
    " 'frame.time_delta',\n",
    " 'frame.time_delta_displayed',\n",
    " 'frame.time_relative',\n",
    " 'frame.len',\n",
    " 'frame.cap_len',\n",
    " 'frame.marked',\n",
    " 'frame.ignored',\n",
    " 'radiotap.version',\n",
    " 'radiotap.pad',\n",
    " 'radiotap.length',\n",
    " 'radiotap.present.tsft',\n",
    " 'radiotap.present.flags',\n",
    " 'radiotap.present.rate',\n",
    " 'radiotap.present.channel',\n",
    " 'radiotap.present.fhss',\n",
    " 'radiotap.present.dbm_antsignal',\n",
    " 'radiotap.present.dbm_antnoise',\n",
    " 'radiotap.present.lock_quality',\n",
    " 'radiotap.present.tx_attenuation',\n",
    " 'radiotap.present.db_tx_attenuation',\n",
    " 'radiotap.present.dbm_tx_power',\n",
    " 'radiotap.present.antenna',\n",
    " 'radiotap.present.db_antsignal',\n",
    " 'radiotap.present.db_antnoise',\n",
    " 'radiotap.present.rxflags',\n",
    " 'radiotap.present.xchannel',\n",
    " 'radiotap.present.mcs',\n",
    " 'radiotap.present.ampdu',\n",
    " 'radiotap.present.vht',\n",
    " 'radiotap.present.reserved',\n",
    " 'radiotap.present.rtap_ns',\n",
    " 'radiotap.present.vendor_ns',\n",
    " 'radiotap.present.ext',\n",
    " 'radiotap.mactime',\n",
    " 'radiotap.flags.cfp',\n",
    " 'radiotap.flags.preamble',\n",
    " 'radiotap.flags.wep',\n",
    " 'radiotap.flags.frag',\n",
    " 'radiotap.flags.fcs',\n",
    " 'radiotap.flags.datapad',\n",
    " 'radiotap.flags.badfcs',\n",
    " 'radiotap.flags.shortgi',\n",
    " 'radiotap.datarate',\n",
    " 'radiotap.channel.freq',\n",
    " 'radiotap.channel.type.turbo',\n",
    " 'radiotap.channel.type.cck',\n",
    " 'radiotap.channel.type.ofdm',\n",
    " 'radiotap.channel.type.2ghz',\n",
    " 'radiotap.channel.type.5ghz',\n",
    " 'radiotap.channel.type.passive',\n",
    " 'radiotap.channel.type.dynamic',\n",
    " 'radiotap.channel.type.gfsk',\n",
    " 'radiotap.channel.type.gsm',\n",
    " 'radiotap.channel.type.sturbo',\n",
    " 'radiotap.channel.type.half',\n",
    " 'radiotap.channel.type.quarter',\n",
    " 'radiotap.dbm_antsignal',\n",
    " 'radiotap.antenna',\n",
    " 'radiotap.rxflags.badplcp',\n",
    " 'wlan.fc.type_subtype',\n",
    " 'wlan.fc.version',\n",
    " 'wlan.fc.type',\n",
    " 'wlan.fc.subtype',\n",
    " 'wlan.fc.ds',\n",
    " 'wlan.fc.frag',\n",
    " 'wlan.fc.retry',\n",
    " 'wlan.fc.pwrmgt',\n",
    " 'wlan.fc.moredata',\n",
    " 'wlan.fc.protected',\n",
    " 'wlan.fc.order',\n",
    " 'wlan.duration',\n",
    " 'wlan.ra',\n",
    " 'wlan.da',\n",
    " 'wlan.ta',\n",
    " 'wlan.sa',\n",
    " 'wlan.bssid',\n",
    " 'wlan.frag',\n",
    " 'wlan.seq',\n",
    " 'wlan.bar.type',\n",
    " 'wlan.ba.control.ackpolicy',\n",
    " 'wlan.ba.control.multitid',\n",
    " 'wlan.ba.control.cbitmap',\n",
    " 'wlan.bar.compressed.tidinfo',\n",
    " 'wlan.ba.bm',\n",
    " 'wlan.fcs_good',\n",
    " 'wlan_mgt.fixed.capabilities.ess',\n",
    " 'wlan_mgt.fixed.capabilities.ibss',\n",
    " 'wlan_mgt.fixed.capabilities.cfpoll.ap',\n",
    " 'wlan_mgt.fixed.capabilities.privacy',\n",
    " 'wlan_mgt.fixed.capabilities.preamble',\n",
    " 'wlan_mgt.fixed.capabilities.pbcc',\n",
    " 'wlan_mgt.fixed.capabilities.agility',\n",
    " 'wlan_mgt.fixed.capabilities.spec_man',\n",
    " 'wlan_mgt.fixed.capabilities.short_slot_time',\n",
    " 'wlan_mgt.fixed.capabilities.apsd',\n",
    " 'wlan_mgt.fixed.capabilities.radio_measurement',\n",
    " 'wlan_mgt.fixed.capabilities.dsss_ofdm',\n",
    " 'wlan_mgt.fixed.capabilities.del_blk_ack',\n",
    " 'wlan_mgt.fixed.capabilities.imm_blk_ack',\n",
    " 'wlan_mgt.fixed.listen_ival',\n",
    " 'wlan_mgt.fixed.current_ap',\n",
    " 'wlan_mgt.fixed.status_code',\n",
    " 'wlan_mgt.fixed.timestamp',\n",
    " 'wlan_mgt.fixed.beacon',\n",
    " 'wlan_mgt.fixed.aid',\n",
    " 'wlan_mgt.fixed.reason_code',\n",
    " 'wlan_mgt.fixed.auth.alg',\n",
    " 'wlan_mgt.fixed.auth_seq',\n",
    " 'wlan_mgt.fixed.category_code',\n",
    " 'wlan_mgt.fixed.htact',\n",
    " 'wlan_mgt.fixed.chanwidth',\n",
    " 'wlan_mgt.fixed.fragment',\n",
    " 'wlan_mgt.fixed.sequence',\n",
    " 'wlan_mgt.tagged.all',\n",
    " 'wlan_mgt.ssid',\n",
    " 'wlan_mgt.ds.current_channel',\n",
    " 'wlan_mgt.tim.dtim_count',\n",
    " 'wlan_mgt.tim.dtim_period',\n",
    " 'wlan_mgt.tim.bmapctl.multicast',\n",
    " 'wlan_mgt.tim.bmapctl.offset',\n",
    " 'wlan_mgt.country_info.environment',\n",
    " 'wlan_mgt.rsn.version',\n",
    " 'wlan_mgt.rsn.gcs.type',\n",
    " 'wlan_mgt.rsn.pcs.count',\n",
    " 'wlan_mgt.rsn.akms.count',\n",
    " 'wlan_mgt.rsn.akms.type',\n",
    " 'wlan_mgt.rsn.capabilities.preauth',\n",
    " 'wlan_mgt.rsn.capabilities.no_pairwise',\n",
    " 'wlan_mgt.rsn.capabilities.ptksa_replay_counter',\n",
    " 'wlan_mgt.rsn.capabilities.gtksa_replay_counter',\n",
    " 'wlan_mgt.rsn.capabilities.mfpr',\n",
    " 'wlan_mgt.rsn.capabilities.mfpc',\n",
    " 'wlan_mgt.rsn.capabilities.peerkey',\n",
    " 'wlan_mgt.tcprep.trsmt_pow',\n",
    " 'wlan_mgt.tcprep.link_mrg',\n",
    " 'wlan.wep.iv',\n",
    " 'wlan.wep.key',\n",
    " 'wlan.wep.icv',\n",
    " 'wlan.tkip.extiv',\n",
    " 'wlan.ccmp.extiv',\n",
    " 'wlan.qos.tid',\n",
    " 'wlan.qos.priority',\n",
    " 'wlan.qos.eosp',\n",
    " 'wlan.qos.ack',\n",
    " 'wlan.qos.amsdupresent',\n",
    " 'wlan.qos.buf_state_indicated1',\n",
    " 'wlan.qos.bit4',\n",
    " 'wlan.qos.txop_dur_req',\n",
    " 'wlan.qos.buf_state_indicated2',\n",
    " 'data.len',\n",
    " 'class']"
   ]
  },
  {
   "cell_type": "markdown",
   "metadata": {},
   "source": [
    "<h2> Training Dataset </h2>"
   ]
  },
  {
   "cell_type": "code",
   "execution_count": 3,
   "metadata": {},
   "outputs": [
    {
     "name": "stderr",
     "output_type": "stream",
     "text": [
      "C:\\Users\\Naresh\\anaconda3\\lib\\site-packages\\IPython\\core\\interactiveshell.py:3063: DtypeWarning: Columns (37,38,39,40,41,42,43,44,45,47,48,49,50,51,52,53,54,55,56,57,58,59,60,61,62,74,88) have mixed types.Specify dtype option on import or set low_memory=False.\n",
      "  interactivity=interactivity, compiler=compiler, result=result)\n"
     ]
    }
   ],
   "source": [
    "awid = pd.read_csv(\"AWID-CLS-R-Trn\", header=None, names=features)"
   ]
  },
  {
   "cell_type": "markdown",
   "metadata": {},
   "source": [
    "<h2> Data Exploration</h2>"
   ]
  },
  {
   "cell_type": "code",
   "execution_count": 4,
   "metadata": {},
   "outputs": [
    {
     "data": {
      "text/html": [
       "<div>\n",
       "<style scoped>\n",
       "    .dataframe tbody tr th:only-of-type {\n",
       "        vertical-align: middle;\n",
       "    }\n",
       "\n",
       "    .dataframe tbody tr th {\n",
       "        vertical-align: top;\n",
       "    }\n",
       "\n",
       "    .dataframe thead th {\n",
       "        text-align: right;\n",
       "    }\n",
       "</style>\n",
       "<table border=\"1\" class=\"dataframe\">\n",
       "  <thead>\n",
       "    <tr style=\"text-align: right;\">\n",
       "      <th></th>\n",
       "      <th>frame.interface_id</th>\n",
       "      <th>frame.dlt</th>\n",
       "      <th>frame.offset_shift</th>\n",
       "      <th>frame.time_epoch</th>\n",
       "      <th>frame.time_delta</th>\n",
       "      <th>frame.time_delta_displayed</th>\n",
       "      <th>frame.time_relative</th>\n",
       "      <th>frame.len</th>\n",
       "      <th>frame.cap_len</th>\n",
       "      <th>frame.marked</th>\n",
       "      <th>...</th>\n",
       "      <th>wlan.qos.priority</th>\n",
       "      <th>wlan.qos.eosp</th>\n",
       "      <th>wlan.qos.ack</th>\n",
       "      <th>wlan.qos.amsdupresent</th>\n",
       "      <th>wlan.qos.buf_state_indicated1</th>\n",
       "      <th>wlan.qos.bit4</th>\n",
       "      <th>wlan.qos.txop_dur_req</th>\n",
       "      <th>wlan.qos.buf_state_indicated2</th>\n",
       "      <th>data.len</th>\n",
       "      <th>class</th>\n",
       "    </tr>\n",
       "  </thead>\n",
       "  <tbody>\n",
       "    <tr>\n",
       "      <th>0</th>\n",
       "      <td>0</td>\n",
       "      <td>?</td>\n",
       "      <td>0.0</td>\n",
       "      <td>1.393661e+09</td>\n",
       "      <td>0.000000</td>\n",
       "      <td>0.000000</td>\n",
       "      <td>0.000000</td>\n",
       "      <td>261</td>\n",
       "      <td>261</td>\n",
       "      <td>0</td>\n",
       "      <td>...</td>\n",
       "      <td>?</td>\n",
       "      <td>?</td>\n",
       "      <td>?</td>\n",
       "      <td>?</td>\n",
       "      <td>?</td>\n",
       "      <td>?</td>\n",
       "      <td>?</td>\n",
       "      <td>?</td>\n",
       "      <td>?</td>\n",
       "      <td>normal</td>\n",
       "    </tr>\n",
       "    <tr>\n",
       "      <th>1</th>\n",
       "      <td>0</td>\n",
       "      <td>?</td>\n",
       "      <td>0.0</td>\n",
       "      <td>1.393661e+09</td>\n",
       "      <td>0.024271</td>\n",
       "      <td>0.024271</td>\n",
       "      <td>0.024271</td>\n",
       "      <td>185</td>\n",
       "      <td>185</td>\n",
       "      <td>0</td>\n",
       "      <td>...</td>\n",
       "      <td>?</td>\n",
       "      <td>?</td>\n",
       "      <td>?</td>\n",
       "      <td>?</td>\n",
       "      <td>?</td>\n",
       "      <td>?</td>\n",
       "      <td>?</td>\n",
       "      <td>?</td>\n",
       "      <td>?</td>\n",
       "      <td>normal</td>\n",
       "    </tr>\n",
       "    <tr>\n",
       "      <th>2</th>\n",
       "      <td>0</td>\n",
       "      <td>?</td>\n",
       "      <td>0.0</td>\n",
       "      <td>1.393661e+09</td>\n",
       "      <td>0.001631</td>\n",
       "      <td>0.001631</td>\n",
       "      <td>0.025902</td>\n",
       "      <td>185</td>\n",
       "      <td>185</td>\n",
       "      <td>0</td>\n",
       "      <td>...</td>\n",
       "      <td>?</td>\n",
       "      <td>?</td>\n",
       "      <td>?</td>\n",
       "      <td>?</td>\n",
       "      <td>?</td>\n",
       "      <td>?</td>\n",
       "      <td>?</td>\n",
       "      <td>?</td>\n",
       "      <td>?</td>\n",
       "      <td>normal</td>\n",
       "    </tr>\n",
       "    <tr>\n",
       "      <th>3</th>\n",
       "      <td>0</td>\n",
       "      <td>?</td>\n",
       "      <td>0.0</td>\n",
       "      <td>1.393661e+09</td>\n",
       "      <td>0.055325</td>\n",
       "      <td>0.055325</td>\n",
       "      <td>0.081227</td>\n",
       "      <td>159</td>\n",
       "      <td>159</td>\n",
       "      <td>0</td>\n",
       "      <td>...</td>\n",
       "      <td>?</td>\n",
       "      <td>?</td>\n",
       "      <td>?</td>\n",
       "      <td>?</td>\n",
       "      <td>?</td>\n",
       "      <td>?</td>\n",
       "      <td>?</td>\n",
       "      <td>?</td>\n",
       "      <td>?</td>\n",
       "      <td>normal</td>\n",
       "    </tr>\n",
       "    <tr>\n",
       "      <th>4</th>\n",
       "      <td>0</td>\n",
       "      <td>?</td>\n",
       "      <td>0.0</td>\n",
       "      <td>1.393661e+09</td>\n",
       "      <td>0.000415</td>\n",
       "      <td>0.000415</td>\n",
       "      <td>0.081642</td>\n",
       "      <td>54</td>\n",
       "      <td>54</td>\n",
       "      <td>0</td>\n",
       "      <td>...</td>\n",
       "      <td>?</td>\n",
       "      <td>?</td>\n",
       "      <td>?</td>\n",
       "      <td>?</td>\n",
       "      <td>?</td>\n",
       "      <td>?</td>\n",
       "      <td>?</td>\n",
       "      <td>?</td>\n",
       "      <td>?</td>\n",
       "      <td>normal</td>\n",
       "    </tr>\n",
       "  </tbody>\n",
       "</table>\n",
       "<p>5 rows × 155 columns</p>\n",
       "</div>"
      ],
      "text/plain": [
       "   frame.interface_id frame.dlt  frame.offset_shift  frame.time_epoch  \\\n",
       "0                   0         ?                 0.0      1.393661e+09   \n",
       "1                   0         ?                 0.0      1.393661e+09   \n",
       "2                   0         ?                 0.0      1.393661e+09   \n",
       "3                   0         ?                 0.0      1.393661e+09   \n",
       "4                   0         ?                 0.0      1.393661e+09   \n",
       "\n",
       "   frame.time_delta  frame.time_delta_displayed  frame.time_relative  \\\n",
       "0          0.000000                    0.000000             0.000000   \n",
       "1          0.024271                    0.024271             0.024271   \n",
       "2          0.001631                    0.001631             0.025902   \n",
       "3          0.055325                    0.055325             0.081227   \n",
       "4          0.000415                    0.000415             0.081642   \n",
       "\n",
       "   frame.len  frame.cap_len  frame.marked  ...  wlan.qos.priority  \\\n",
       "0        261            261             0  ...                  ?   \n",
       "1        185            185             0  ...                  ?   \n",
       "2        185            185             0  ...                  ?   \n",
       "3        159            159             0  ...                  ?   \n",
       "4         54             54             0  ...                  ?   \n",
       "\n",
       "   wlan.qos.eosp  wlan.qos.ack  wlan.qos.amsdupresent  \\\n",
       "0              ?             ?                      ?   \n",
       "1              ?             ?                      ?   \n",
       "2              ?             ?                      ?   \n",
       "3              ?             ?                      ?   \n",
       "4              ?             ?                      ?   \n",
       "\n",
       "   wlan.qos.buf_state_indicated1  wlan.qos.bit4  wlan.qos.txop_dur_req  \\\n",
       "0                              ?              ?                      ?   \n",
       "1                              ?              ?                      ?   \n",
       "2                              ?              ?                      ?   \n",
       "3                              ?              ?                      ?   \n",
       "4                              ?              ?                      ?   \n",
       "\n",
       "   wlan.qos.buf_state_indicated2  data.len   class  \n",
       "0                              ?         ?  normal  \n",
       "1                              ?         ?  normal  \n",
       "2                              ?         ?  normal  \n",
       "3                              ?         ?  normal  \n",
       "4                              ?         ?  normal  \n",
       "\n",
       "[5 rows x 155 columns]"
      ]
     },
     "execution_count": 4,
     "metadata": {},
     "output_type": "execute_result"
    }
   ],
   "source": [
    "awid.head()"
   ]
  },
  {
   "cell_type": "code",
   "execution_count": 5,
   "metadata": {},
   "outputs": [
    {
     "data": {
      "text/html": [
       "<div>\n",
       "<style scoped>\n",
       "    .dataframe tbody tr th:only-of-type {\n",
       "        vertical-align: middle;\n",
       "    }\n",
       "\n",
       "    .dataframe tbody tr th {\n",
       "        vertical-align: top;\n",
       "    }\n",
       "\n",
       "    .dataframe thead th {\n",
       "        text-align: right;\n",
       "    }\n",
       "</style>\n",
       "<table border=\"1\" class=\"dataframe\">\n",
       "  <thead>\n",
       "    <tr style=\"text-align: right;\">\n",
       "      <th></th>\n",
       "      <th>frame.interface_id</th>\n",
       "      <th>frame.offset_shift</th>\n",
       "      <th>frame.time_epoch</th>\n",
       "      <th>frame.time_delta</th>\n",
       "      <th>frame.time_delta_displayed</th>\n",
       "      <th>frame.time_relative</th>\n",
       "      <th>frame.len</th>\n",
       "      <th>frame.cap_len</th>\n",
       "      <th>frame.marked</th>\n",
       "      <th>frame.ignored</th>\n",
       "      <th>...</th>\n",
       "      <th>radiotap.datarate</th>\n",
       "      <th>wlan.fc.version</th>\n",
       "      <th>wlan.fc.type</th>\n",
       "      <th>wlan.fc.subtype</th>\n",
       "      <th>wlan.fc.frag</th>\n",
       "      <th>wlan.fc.retry</th>\n",
       "      <th>wlan.fc.pwrmgt</th>\n",
       "      <th>wlan.fc.moredata</th>\n",
       "      <th>wlan.fc.protected</th>\n",
       "      <th>wlan.fc.order</th>\n",
       "    </tr>\n",
       "  </thead>\n",
       "  <tbody>\n",
       "    <tr>\n",
       "      <th>count</th>\n",
       "      <td>1795575.0</td>\n",
       "      <td>1795575.0</td>\n",
       "      <td>1.795575e+06</td>\n",
       "      <td>1.795575e+06</td>\n",
       "      <td>1.795575e+06</td>\n",
       "      <td>1.795575e+06</td>\n",
       "      <td>1.795575e+06</td>\n",
       "      <td>1.795575e+06</td>\n",
       "      <td>1795575.0</td>\n",
       "      <td>1795575.0</td>\n",
       "      <td>...</td>\n",
       "      <td>1.795575e+06</td>\n",
       "      <td>1795575.0</td>\n",
       "      <td>1.795575e+06</td>\n",
       "      <td>1.795575e+06</td>\n",
       "      <td>1.795575e+06</td>\n",
       "      <td>1.795575e+06</td>\n",
       "      <td>1.795575e+06</td>\n",
       "      <td>1.795575e+06</td>\n",
       "      <td>1.795575e+06</td>\n",
       "      <td>1795575.0</td>\n",
       "    </tr>\n",
       "    <tr>\n",
       "      <th>mean</th>\n",
       "      <td>0.0</td>\n",
       "      <td>0.0</td>\n",
       "      <td>1.393663e+09</td>\n",
       "      <td>2.004690e-03</td>\n",
       "      <td>2.004690e-03</td>\n",
       "      <td>1.870294e+03</td>\n",
       "      <td>5.153149e+02</td>\n",
       "      <td>5.153149e+02</td>\n",
       "      <td>0.0</td>\n",
       "      <td>0.0</td>\n",
       "      <td>...</td>\n",
       "      <td>2.513950e+01</td>\n",
       "      <td>0.0</td>\n",
       "      <td>1.272582e+00</td>\n",
       "      <td>8.499055e+00</td>\n",
       "      <td>3.748103e-04</td>\n",
       "      <td>1.271080e-01</td>\n",
       "      <td>2.325216e-02</td>\n",
       "      <td>1.772691e-03</td>\n",
       "      <td>4.932927e-01</td>\n",
       "      <td>0.0</td>\n",
       "    </tr>\n",
       "    <tr>\n",
       "      <th>std</th>\n",
       "      <td>0.0</td>\n",
       "      <td>0.0</td>\n",
       "      <td>8.674448e+02</td>\n",
       "      <td>6.379536e-03</td>\n",
       "      <td>6.379536e-03</td>\n",
       "      <td>8.674448e+02</td>\n",
       "      <td>6.649245e+02</td>\n",
       "      <td>6.649245e+02</td>\n",
       "      <td>0.0</td>\n",
       "      <td>0.0</td>\n",
       "      <td>...</td>\n",
       "      <td>2.373590e+01</td>\n",
       "      <td>0.0</td>\n",
       "      <td>8.198060e-01</td>\n",
       "      <td>4.173015e+00</td>\n",
       "      <td>1.935639e-02</td>\n",
       "      <td>3.330940e-01</td>\n",
       "      <td>1.507034e-01</td>\n",
       "      <td>4.206602e-02</td>\n",
       "      <td>4.999551e-01</td>\n",
       "      <td>0.0</td>\n",
       "    </tr>\n",
       "    <tr>\n",
       "      <th>min</th>\n",
       "      <td>0.0</td>\n",
       "      <td>0.0</td>\n",
       "      <td>1.393661e+09</td>\n",
       "      <td>0.000000e+00</td>\n",
       "      <td>0.000000e+00</td>\n",
       "      <td>0.000000e+00</td>\n",
       "      <td>4.000000e+01</td>\n",
       "      <td>4.000000e+01</td>\n",
       "      <td>0.0</td>\n",
       "      <td>0.0</td>\n",
       "      <td>...</td>\n",
       "      <td>1.000000e+00</td>\n",
       "      <td>0.0</td>\n",
       "      <td>0.000000e+00</td>\n",
       "      <td>0.000000e+00</td>\n",
       "      <td>0.000000e+00</td>\n",
       "      <td>0.000000e+00</td>\n",
       "      <td>0.000000e+00</td>\n",
       "      <td>0.000000e+00</td>\n",
       "      <td>0.000000e+00</td>\n",
       "      <td>0.0</td>\n",
       "    </tr>\n",
       "    <tr>\n",
       "      <th>25%</th>\n",
       "      <td>0.0</td>\n",
       "      <td>0.0</td>\n",
       "      <td>1.393662e+09</td>\n",
       "      <td>3.150000e-04</td>\n",
       "      <td>3.150000e-04</td>\n",
       "      <td>1.027875e+03</td>\n",
       "      <td>4.000000e+01</td>\n",
       "      <td>4.000000e+01</td>\n",
       "      <td>0.0</td>\n",
       "      <td>0.0</td>\n",
       "      <td>...</td>\n",
       "      <td>1.000000e+00</td>\n",
       "      <td>0.0</td>\n",
       "      <td>1.000000e+00</td>\n",
       "      <td>8.000000e+00</td>\n",
       "      <td>0.000000e+00</td>\n",
       "      <td>0.000000e+00</td>\n",
       "      <td>0.000000e+00</td>\n",
       "      <td>0.000000e+00</td>\n",
       "      <td>0.000000e+00</td>\n",
       "      <td>0.0</td>\n",
       "    </tr>\n",
       "    <tr>\n",
       "      <th>50%</th>\n",
       "      <td>0.0</td>\n",
       "      <td>0.0</td>\n",
       "      <td>1.393663e+09</td>\n",
       "      <td>5.490000e-04</td>\n",
       "      <td>5.490000e-04</td>\n",
       "      <td>1.902614e+03</td>\n",
       "      <td>1.120000e+02</td>\n",
       "      <td>1.120000e+02</td>\n",
       "      <td>0.0</td>\n",
       "      <td>0.0</td>\n",
       "      <td>...</td>\n",
       "      <td>2.400000e+01</td>\n",
       "      <td>0.0</td>\n",
       "      <td>2.000000e+00</td>\n",
       "      <td>8.000000e+00</td>\n",
       "      <td>0.000000e+00</td>\n",
       "      <td>0.000000e+00</td>\n",
       "      <td>0.000000e+00</td>\n",
       "      <td>0.000000e+00</td>\n",
       "      <td>0.000000e+00</td>\n",
       "      <td>0.0</td>\n",
       "    </tr>\n",
       "    <tr>\n",
       "      <th>75%</th>\n",
       "      <td>0.0</td>\n",
       "      <td>0.0</td>\n",
       "      <td>1.393664e+09</td>\n",
       "      <td>1.113000e-03</td>\n",
       "      <td>1.113000e-03</td>\n",
       "      <td>2.524325e+03</td>\n",
       "      <td>1.552000e+03</td>\n",
       "      <td>1.552000e+03</td>\n",
       "      <td>0.0</td>\n",
       "      <td>0.0</td>\n",
       "      <td>...</td>\n",
       "      <td>5.400000e+01</td>\n",
       "      <td>0.0</td>\n",
       "      <td>2.000000e+00</td>\n",
       "      <td>1.200000e+01</td>\n",
       "      <td>0.000000e+00</td>\n",
       "      <td>0.000000e+00</td>\n",
       "      <td>0.000000e+00</td>\n",
       "      <td>0.000000e+00</td>\n",
       "      <td>1.000000e+00</td>\n",
       "      <td>0.0</td>\n",
       "    </tr>\n",
       "    <tr>\n",
       "      <th>max</th>\n",
       "      <td>0.0</td>\n",
       "      <td>0.0</td>\n",
       "      <td>1.393665e+09</td>\n",
       "      <td>3.502630e-01</td>\n",
       "      <td>3.502630e-01</td>\n",
       "      <td>3.599571e+03</td>\n",
       "      <td>1.570000e+03</td>\n",
       "      <td>1.570000e+03</td>\n",
       "      <td>0.0</td>\n",
       "      <td>0.0</td>\n",
       "      <td>...</td>\n",
       "      <td>5.400000e+01</td>\n",
       "      <td>0.0</td>\n",
       "      <td>2.000000e+00</td>\n",
       "      <td>1.300000e+01</td>\n",
       "      <td>1.000000e+00</td>\n",
       "      <td>1.000000e+00</td>\n",
       "      <td>1.000000e+00</td>\n",
       "      <td>1.000000e+00</td>\n",
       "      <td>1.000000e+00</td>\n",
       "      <td>0.0</td>\n",
       "    </tr>\n",
       "  </tbody>\n",
       "</table>\n",
       "<p>8 rows × 45 columns</p>\n",
       "</div>"
      ],
      "text/plain": [
       "       frame.interface_id  frame.offset_shift  frame.time_epoch  \\\n",
       "count           1795575.0           1795575.0      1.795575e+06   \n",
       "mean                  0.0                 0.0      1.393663e+09   \n",
       "std                   0.0                 0.0      8.674448e+02   \n",
       "min                   0.0                 0.0      1.393661e+09   \n",
       "25%                   0.0                 0.0      1.393662e+09   \n",
       "50%                   0.0                 0.0      1.393663e+09   \n",
       "75%                   0.0                 0.0      1.393664e+09   \n",
       "max                   0.0                 0.0      1.393665e+09   \n",
       "\n",
       "       frame.time_delta  frame.time_delta_displayed  frame.time_relative  \\\n",
       "count      1.795575e+06                1.795575e+06         1.795575e+06   \n",
       "mean       2.004690e-03                2.004690e-03         1.870294e+03   \n",
       "std        6.379536e-03                6.379536e-03         8.674448e+02   \n",
       "min        0.000000e+00                0.000000e+00         0.000000e+00   \n",
       "25%        3.150000e-04                3.150000e-04         1.027875e+03   \n",
       "50%        5.490000e-04                5.490000e-04         1.902614e+03   \n",
       "75%        1.113000e-03                1.113000e-03         2.524325e+03   \n",
       "max        3.502630e-01                3.502630e-01         3.599571e+03   \n",
       "\n",
       "          frame.len  frame.cap_len  frame.marked  frame.ignored  ...  \\\n",
       "count  1.795575e+06   1.795575e+06     1795575.0      1795575.0  ...   \n",
       "mean   5.153149e+02   5.153149e+02           0.0            0.0  ...   \n",
       "std    6.649245e+02   6.649245e+02           0.0            0.0  ...   \n",
       "min    4.000000e+01   4.000000e+01           0.0            0.0  ...   \n",
       "25%    4.000000e+01   4.000000e+01           0.0            0.0  ...   \n",
       "50%    1.120000e+02   1.120000e+02           0.0            0.0  ...   \n",
       "75%    1.552000e+03   1.552000e+03           0.0            0.0  ...   \n",
       "max    1.570000e+03   1.570000e+03           0.0            0.0  ...   \n",
       "\n",
       "       radiotap.datarate  wlan.fc.version  wlan.fc.type  wlan.fc.subtype  \\\n",
       "count       1.795575e+06        1795575.0  1.795575e+06     1.795575e+06   \n",
       "mean        2.513950e+01              0.0  1.272582e+00     8.499055e+00   \n",
       "std         2.373590e+01              0.0  8.198060e-01     4.173015e+00   \n",
       "min         1.000000e+00              0.0  0.000000e+00     0.000000e+00   \n",
       "25%         1.000000e+00              0.0  1.000000e+00     8.000000e+00   \n",
       "50%         2.400000e+01              0.0  2.000000e+00     8.000000e+00   \n",
       "75%         5.400000e+01              0.0  2.000000e+00     1.200000e+01   \n",
       "max         5.400000e+01              0.0  2.000000e+00     1.300000e+01   \n",
       "\n",
       "       wlan.fc.frag  wlan.fc.retry  wlan.fc.pwrmgt  wlan.fc.moredata  \\\n",
       "count  1.795575e+06   1.795575e+06    1.795575e+06      1.795575e+06   \n",
       "mean   3.748103e-04   1.271080e-01    2.325216e-02      1.772691e-03   \n",
       "std    1.935639e-02   3.330940e-01    1.507034e-01      4.206602e-02   \n",
       "min    0.000000e+00   0.000000e+00    0.000000e+00      0.000000e+00   \n",
       "25%    0.000000e+00   0.000000e+00    0.000000e+00      0.000000e+00   \n",
       "50%    0.000000e+00   0.000000e+00    0.000000e+00      0.000000e+00   \n",
       "75%    0.000000e+00   0.000000e+00    0.000000e+00      0.000000e+00   \n",
       "max    1.000000e+00   1.000000e+00    1.000000e+00      1.000000e+00   \n",
       "\n",
       "       wlan.fc.protected  wlan.fc.order  \n",
       "count       1.795575e+06      1795575.0  \n",
       "mean        4.932927e-01            0.0  \n",
       "std         4.999551e-01            0.0  \n",
       "min         0.000000e+00            0.0  \n",
       "25%         0.000000e+00            0.0  \n",
       "50%         0.000000e+00            0.0  \n",
       "75%         1.000000e+00            0.0  \n",
       "max         1.000000e+00            0.0  \n",
       "\n",
       "[8 rows x 45 columns]"
      ]
     },
     "execution_count": 5,
     "metadata": {},
     "output_type": "execute_result"
    }
   ],
   "source": [
    "awid.describe()"
   ]
  },
  {
   "cell_type": "code",
   "execution_count": null,
   "metadata": {},
   "outputs": [],
   "source": []
  },
  {
   "cell_type": "code",
   "execution_count": 6,
   "metadata": {},
   "outputs": [
    {
     "data": {
      "text/plain": [
       "normal           1633190\n",
       "injection          65379\n",
       "impersonation      48522\n",
       "flooding           48484\n",
       "Name: class, dtype: int64"
      ]
     },
     "execution_count": 6,
     "metadata": {},
     "output_type": "execute_result"
    }
   ],
   "source": [
    "awid['class'].value_counts()"
   ]
  },
  {
   "cell_type": "code",
   "execution_count": 7,
   "metadata": {},
   "outputs": [
    {
     "data": {
      "text/plain": [
       "frame.interface_id               0\n",
       "frame.dlt                        0\n",
       "frame.offset_shift               0\n",
       "frame.time_epoch                 0\n",
       "frame.time_delta                 0\n",
       "                                ..\n",
       "wlan.qos.bit4                    0\n",
       "wlan.qos.txop_dur_req            0\n",
       "wlan.qos.buf_state_indicated2    0\n",
       "data.len                         0\n",
       "class                            0\n",
       "Length: 155, dtype: int64"
      ]
     },
     "execution_count": 7,
     "metadata": {},
     "output_type": "execute_result"
    }
   ],
   "source": [
    "awid.isna().sum()"
   ]
  },
  {
   "cell_type": "markdown",
   "metadata": {},
   "source": [
    "<h2> Dropping columns with 50% of null data</h2>"
   ]
  },
  {
   "cell_type": "code",
   "execution_count": 8,
   "metadata": {},
   "outputs": [
    {
     "data": {
      "text/plain": [
       "(70,)"
      ]
     },
     "execution_count": 8,
     "metadata": {},
     "output_type": "execute_result"
    }
   ],
   "source": [
    "awid.replace({\"?\":None}, inplace=True)\n",
    "null_column=awid.columns[awid.isnull().mean() >= 0.51]\n",
    "null_column.shape"
   ]
  },
  {
   "cell_type": "markdown",
   "metadata": {},
   "source": [
    "<h2>Dropping all the null rows</h2>"
   ]
  },
  {
   "cell_type": "code",
   "execution_count": 9,
   "metadata": {},
   "outputs": [],
   "source": [
    "awid.drop(null_column, axis=1, inplace=True)\n",
    "awid.dropna(inplace=True)"
   ]
  },
  {
   "cell_type": "code",
   "execution_count": 10,
   "metadata": {},
   "outputs": [
    {
     "data": {
      "text/plain": [
       "frame.interface_id            0\n",
       "frame.offset_shift            0\n",
       "frame.time_epoch              0\n",
       "frame.time_delta              0\n",
       "frame.time_delta_displayed    0\n",
       "                             ..\n",
       "wlan.seq                      0\n",
       "wlan.fcs_good                 0\n",
       "wlan.wep.key                  0\n",
       "data.len                      0\n",
       "class                         0\n",
       "Length: 85, dtype: int64"
      ]
     },
     "execution_count": 10,
     "metadata": {},
     "output_type": "execute_result"
    }
   ],
   "source": [
    "awid.isna().sum()"
   ]
  },
  {
   "cell_type": "code",
   "execution_count": 11,
   "metadata": {},
   "outputs": [
    {
     "data": {
      "text/plain": [
       "normal           775634\n",
       "injection         65379\n",
       "impersonation     44731\n",
       "Name: class, dtype: int64"
      ]
     },
     "execution_count": 11,
     "metadata": {},
     "output_type": "execute_result"
    }
   ],
   "source": [
    "awid['class'].value_counts()"
   ]
  },
  {
   "cell_type": "markdown",
   "metadata": {},
   "source": [
    "<h2>Converting all the Columns to numeric</h2>"
   ]
  },
  {
   "cell_type": "code",
   "execution_count": 12,
   "metadata": {},
   "outputs": [],
   "source": [
    "for col in awid.columns:\n",
    "    awid[col]=pd.to_numeric(awid[col], errors='ignore')"
   ]
  },
  {
   "cell_type": "code",
   "execution_count": 13,
   "metadata": {},
   "outputs": [
    {
     "data": {
      "text/html": [
       "<div>\n",
       "<style scoped>\n",
       "    .dataframe tbody tr th:only-of-type {\n",
       "        vertical-align: middle;\n",
       "    }\n",
       "\n",
       "    .dataframe tbody tr th {\n",
       "        vertical-align: top;\n",
       "    }\n",
       "\n",
       "    .dataframe thead th {\n",
       "        text-align: right;\n",
       "    }\n",
       "</style>\n",
       "<table border=\"1\" class=\"dataframe\">\n",
       "  <thead>\n",
       "    <tr style=\"text-align: right;\">\n",
       "      <th></th>\n",
       "      <th>frame.interface_id</th>\n",
       "      <th>frame.offset_shift</th>\n",
       "      <th>frame.time_epoch</th>\n",
       "      <th>frame.time_delta</th>\n",
       "      <th>frame.time_delta_displayed</th>\n",
       "      <th>frame.time_relative</th>\n",
       "      <th>frame.len</th>\n",
       "      <th>frame.cap_len</th>\n",
       "      <th>frame.marked</th>\n",
       "      <th>frame.ignored</th>\n",
       "      <th>...</th>\n",
       "      <th>wlan.fc.pwrmgt</th>\n",
       "      <th>wlan.fc.moredata</th>\n",
       "      <th>wlan.fc.protected</th>\n",
       "      <th>wlan.fc.order</th>\n",
       "      <th>wlan.duration</th>\n",
       "      <th>wlan.frag</th>\n",
       "      <th>wlan.seq</th>\n",
       "      <th>wlan.fcs_good</th>\n",
       "      <th>wlan.wep.key</th>\n",
       "      <th>data.len</th>\n",
       "    </tr>\n",
       "  </thead>\n",
       "  <tbody>\n",
       "    <tr>\n",
       "      <th>17</th>\n",
       "      <td>0</td>\n",
       "      <td>0.0</td>\n",
       "      <td>1.393661e+09</td>\n",
       "      <td>0.002270</td>\n",
       "      <td>0.002270</td>\n",
       "      <td>0.217518</td>\n",
       "      <td>1524</td>\n",
       "      <td>1524</td>\n",
       "      <td>0</td>\n",
       "      <td>0</td>\n",
       "      <td>...</td>\n",
       "      <td>0</td>\n",
       "      <td>0</td>\n",
       "      <td>1</td>\n",
       "      <td>0</td>\n",
       "      <td>44</td>\n",
       "      <td>0</td>\n",
       "      <td>96</td>\n",
       "      <td>1</td>\n",
       "      <td>0</td>\n",
       "      <td>1460</td>\n",
       "    </tr>\n",
       "    <tr>\n",
       "      <th>18</th>\n",
       "      <td>0</td>\n",
       "      <td>0.0</td>\n",
       "      <td>1.393661e+09</td>\n",
       "      <td>0.000621</td>\n",
       "      <td>0.000621</td>\n",
       "      <td>0.218139</td>\n",
       "      <td>124</td>\n",
       "      <td>124</td>\n",
       "      <td>0</td>\n",
       "      <td>0</td>\n",
       "      <td>...</td>\n",
       "      <td>0</td>\n",
       "      <td>0</td>\n",
       "      <td>1</td>\n",
       "      <td>0</td>\n",
       "      <td>44</td>\n",
       "      <td>0</td>\n",
       "      <td>1217</td>\n",
       "      <td>1</td>\n",
       "      <td>0</td>\n",
       "      <td>60</td>\n",
       "    </tr>\n",
       "    <tr>\n",
       "      <th>20</th>\n",
       "      <td>0</td>\n",
       "      <td>0.0</td>\n",
       "      <td>1.393661e+09</td>\n",
       "      <td>0.000144</td>\n",
       "      <td>0.000144</td>\n",
       "      <td>0.229118</td>\n",
       "      <td>153</td>\n",
       "      <td>153</td>\n",
       "      <td>0</td>\n",
       "      <td>0</td>\n",
       "      <td>...</td>\n",
       "      <td>0</td>\n",
       "      <td>0</td>\n",
       "      <td>1</td>\n",
       "      <td>0</td>\n",
       "      <td>44</td>\n",
       "      <td>0</td>\n",
       "      <td>97</td>\n",
       "      <td>1</td>\n",
       "      <td>0</td>\n",
       "      <td>89</td>\n",
       "    </tr>\n",
       "    <tr>\n",
       "      <th>28</th>\n",
       "      <td>0</td>\n",
       "      <td>0.0</td>\n",
       "      <td>1.393661e+09</td>\n",
       "      <td>0.021711</td>\n",
       "      <td>0.021711</td>\n",
       "      <td>0.367359</td>\n",
       "      <td>124</td>\n",
       "      <td>124</td>\n",
       "      <td>0</td>\n",
       "      <td>0</td>\n",
       "      <td>...</td>\n",
       "      <td>0</td>\n",
       "      <td>0</td>\n",
       "      <td>1</td>\n",
       "      <td>0</td>\n",
       "      <td>44</td>\n",
       "      <td>0</td>\n",
       "      <td>1220</td>\n",
       "      <td>1</td>\n",
       "      <td>0</td>\n",
       "      <td>60</td>\n",
       "    </tr>\n",
       "    <tr>\n",
       "      <th>31</th>\n",
       "      <td>0</td>\n",
       "      <td>0.0</td>\n",
       "      <td>1.393661e+09</td>\n",
       "      <td>0.000058</td>\n",
       "      <td>0.000058</td>\n",
       "      <td>0.380933</td>\n",
       "      <td>124</td>\n",
       "      <td>124</td>\n",
       "      <td>0</td>\n",
       "      <td>0</td>\n",
       "      <td>...</td>\n",
       "      <td>0</td>\n",
       "      <td>0</td>\n",
       "      <td>1</td>\n",
       "      <td>0</td>\n",
       "      <td>44</td>\n",
       "      <td>0</td>\n",
       "      <td>99</td>\n",
       "      <td>1</td>\n",
       "      <td>0</td>\n",
       "      <td>60</td>\n",
       "    </tr>\n",
       "  </tbody>\n",
       "</table>\n",
       "<p>5 rows × 76 columns</p>\n",
       "</div>"
      ],
      "text/plain": [
       "    frame.interface_id  frame.offset_shift  frame.time_epoch  \\\n",
       "17                   0                 0.0      1.393661e+09   \n",
       "18                   0                 0.0      1.393661e+09   \n",
       "20                   0                 0.0      1.393661e+09   \n",
       "28                   0                 0.0      1.393661e+09   \n",
       "31                   0                 0.0      1.393661e+09   \n",
       "\n",
       "    frame.time_delta  frame.time_delta_displayed  frame.time_relative  \\\n",
       "17          0.002270                    0.002270             0.217518   \n",
       "18          0.000621                    0.000621             0.218139   \n",
       "20          0.000144                    0.000144             0.229118   \n",
       "28          0.021711                    0.021711             0.367359   \n",
       "31          0.000058                    0.000058             0.380933   \n",
       "\n",
       "    frame.len  frame.cap_len  frame.marked  frame.ignored  ...  \\\n",
       "17       1524           1524             0              0  ...   \n",
       "18        124            124             0              0  ...   \n",
       "20        153            153             0              0  ...   \n",
       "28        124            124             0              0  ...   \n",
       "31        124            124             0              0  ...   \n",
       "\n",
       "    wlan.fc.pwrmgt  wlan.fc.moredata  wlan.fc.protected  wlan.fc.order  \\\n",
       "17               0                 0                  1              0   \n",
       "18               0                 0                  1              0   \n",
       "20               0                 0                  1              0   \n",
       "28               0                 0                  1              0   \n",
       "31               0                 0                  1              0   \n",
       "\n",
       "    wlan.duration  wlan.frag  wlan.seq  wlan.fcs_good  wlan.wep.key  data.len  \n",
       "17             44          0        96              1             0      1460  \n",
       "18             44          0      1217              1             0        60  \n",
       "20             44          0        97              1             0        89  \n",
       "28             44          0      1220              1             0        60  \n",
       "31             44          0        99              1             0        60  \n",
       "\n",
       "[5 rows x 76 columns]"
      ]
     },
     "execution_count": 13,
     "metadata": {},
     "output_type": "execute_result"
    }
   ],
   "source": [
    "awid.select_dtypes(['number']).head()"
   ]
  },
  {
   "cell_type": "markdown",
   "metadata": {},
   "source": [
    "<h2>Splitting the training data</h2>"
   ]
  },
  {
   "cell_type": "code",
   "execution_count": 14,
   "metadata": {},
   "outputs": [],
   "source": [
    "#For the Binary Classification,we need to make class label as 'normal' and 'attack'\n",
    "awid['class']= ['normal' if x == 'normal' else 'attack' for x in awid['class']]"
   ]
  },
  {
   "cell_type": "code",
   "execution_count": 15,
   "metadata": {},
   "outputs": [],
   "source": [
    "X_train, y_train = awid.select_dtypes(['number']), awid['class']"
   ]
  },
  {
   "cell_type": "code",
   "execution_count": 16,
   "metadata": {},
   "outputs": [
    {
     "data": {
      "text/plain": [
       "normal    775634\n",
       "attack    110110\n",
       "Name: class, dtype: int64"
      ]
     },
     "execution_count": 16,
     "metadata": {},
     "output_type": "execute_result"
    }
   ],
   "source": [
    "y_train.value_counts()"
   ]
  },
  {
   "cell_type": "markdown",
   "metadata": {},
   "source": [
    "<h2>Testing Data</h2>"
   ]
  },
  {
   "cell_type": "code",
   "execution_count": 17,
   "metadata": {
    "scrolled": true
   },
   "outputs": [
    {
     "name": "stderr",
     "output_type": "stream",
     "text": [
      "C:\\Users\\Naresh\\anaconda3\\lib\\site-packages\\IPython\\core\\interactiveshell.py:3063: DtypeWarning: Columns (37,38,39,40,41,42,43,44,45,47,48,49,50,51,52,53,54,55,56,57,58,59,60,61,62,74,88) have mixed types.Specify dtype option on import or set low_memory=False.\n",
      "  interactivity=interactivity, compiler=compiler, result=result)\n"
     ]
    }
   ],
   "source": [
    "awid_test = pd.read_csv(\"AWID-CLS-R-Tst/AWID-CLS-R-Tst\", header=None, names=features)\n"
   ]
  },
  {
   "cell_type": "markdown",
   "metadata": {},
   "source": [
    "<h2>Cleaning testing data</h2>"
   ]
  },
  {
   "cell_type": "code",
   "execution_count": 18,
   "metadata": {
    "scrolled": true
   },
   "outputs": [],
   "source": [
    "awid_test.isna().sum()\n",
    "awid_test.replace({\"?\":None}, inplace=True)\n",
    "test_null_column=awid_test.columns[awid_test.isnull().mean() >= 0.5]\n",
    "awid_test.drop(test_null_column, axis=1, inplace=True)\n",
    "awid_test.dropna(inplace=True)\n",
    "\n",
    "for col in awid_test.columns:\n",
    "    awid_test[col]=pd.to_numeric(awid_test[col], errors='ignore')\n",
    "\n",
    "awid_test['class'] = ['normal' if x == 'normal' else 'attack' for x in awid_test['class']]\n",
    "\n",
    "X_test, y_test = awid_test.select_dtypes(['number']), awid_test['class']\n"
   ]
  },
  {
   "cell_type": "code",
   "execution_count": 19,
   "metadata": {},
   "outputs": [
    {
     "data": {
      "text/html": [
       "<div>\n",
       "<style scoped>\n",
       "    .dataframe tbody tr th:only-of-type {\n",
       "        vertical-align: middle;\n",
       "    }\n",
       "\n",
       "    .dataframe tbody tr th {\n",
       "        vertical-align: top;\n",
       "    }\n",
       "\n",
       "    .dataframe thead th {\n",
       "        text-align: right;\n",
       "    }\n",
       "</style>\n",
       "<table border=\"1\" class=\"dataframe\">\n",
       "  <thead>\n",
       "    <tr style=\"text-align: right;\">\n",
       "      <th></th>\n",
       "      <th>frame.interface_id</th>\n",
       "      <th>frame.offset_shift</th>\n",
       "      <th>frame.time_epoch</th>\n",
       "      <th>frame.time_delta</th>\n",
       "      <th>frame.time_delta_displayed</th>\n",
       "      <th>frame.time_relative</th>\n",
       "      <th>frame.len</th>\n",
       "      <th>frame.cap_len</th>\n",
       "      <th>frame.marked</th>\n",
       "      <th>frame.ignored</th>\n",
       "      <th>...</th>\n",
       "      <th>wlan.fc.pwrmgt</th>\n",
       "      <th>wlan.fc.moredata</th>\n",
       "      <th>wlan.fc.protected</th>\n",
       "      <th>wlan.fc.order</th>\n",
       "      <th>wlan.duration</th>\n",
       "      <th>wlan.frag</th>\n",
       "      <th>wlan.seq</th>\n",
       "      <th>wlan.fcs_good</th>\n",
       "      <th>wlan.wep.key</th>\n",
       "      <th>data.len</th>\n",
       "    </tr>\n",
       "  </thead>\n",
       "  <tbody>\n",
       "    <tr>\n",
       "      <th>count</th>\n",
       "      <td>313248.0</td>\n",
       "      <td>313248.0</td>\n",
       "      <td>3.132480e+05</td>\n",
       "      <td>313248.000000</td>\n",
       "      <td>313248.000000</td>\n",
       "      <td>313248.000000</td>\n",
       "      <td>313248.000000</td>\n",
       "      <td>313248.000000</td>\n",
       "      <td>313248.0</td>\n",
       "      <td>313248.0</td>\n",
       "      <td>...</td>\n",
       "      <td>313248.000000</td>\n",
       "      <td>313248.000000</td>\n",
       "      <td>313248.0</td>\n",
       "      <td>313248.0</td>\n",
       "      <td>313248.000000</td>\n",
       "      <td>313248.000000</td>\n",
       "      <td>313248.000000</td>\n",
       "      <td>313248.0</td>\n",
       "      <td>313248.000000</td>\n",
       "      <td>313248.000000</td>\n",
       "    </tr>\n",
       "    <tr>\n",
       "      <th>mean</th>\n",
       "      <td>0.0</td>\n",
       "      <td>0.0</td>\n",
       "      <td>1.393669e+09</td>\n",
       "      <td>0.001238</td>\n",
       "      <td>0.001238</td>\n",
       "      <td>419.131540</td>\n",
       "      <td>892.088681</td>\n",
       "      <td>892.088681</td>\n",
       "      <td>0.0</td>\n",
       "      <td>0.0</td>\n",
       "      <td>...</td>\n",
       "      <td>0.000354</td>\n",
       "      <td>0.008897</td>\n",
       "      <td>1.0</td>\n",
       "      <td>0.0</td>\n",
       "      <td>80.225144</td>\n",
       "      <td>0.121674</td>\n",
       "      <td>1849.670600</td>\n",
       "      <td>1.0</td>\n",
       "      <td>0.065405</td>\n",
       "      <td>828.889611</td>\n",
       "    </tr>\n",
       "    <tr>\n",
       "      <th>std</th>\n",
       "      <td>0.0</td>\n",
       "      <td>0.0</td>\n",
       "      <td>3.968335e+02</td>\n",
       "      <td>0.003632</td>\n",
       "      <td>0.003632</td>\n",
       "      <td>396.833483</td>\n",
       "      <td>713.371196</td>\n",
       "      <td>713.371196</td>\n",
       "      <td>0.0</td>\n",
       "      <td>0.0</td>\n",
       "      <td>...</td>\n",
       "      <td>0.018821</td>\n",
       "      <td>0.093904</td>\n",
       "      <td>0.0</td>\n",
       "      <td>0.0</td>\n",
       "      <td>98.175003</td>\n",
       "      <td>0.522946</td>\n",
       "      <td>1158.063441</td>\n",
       "      <td>0.0</td>\n",
       "      <td>0.250803</td>\n",
       "      <td>712.901695</td>\n",
       "    </tr>\n",
       "    <tr>\n",
       "      <th>min</th>\n",
       "      <td>0.0</td>\n",
       "      <td>0.0</td>\n",
       "      <td>1.393668e+09</td>\n",
       "      <td>0.000000</td>\n",
       "      <td>0.000000</td>\n",
       "      <td>0.000000</td>\n",
       "      <td>65.000000</td>\n",
       "      <td>65.000000</td>\n",
       "      <td>0.0</td>\n",
       "      <td>0.0</td>\n",
       "      <td>...</td>\n",
       "      <td>0.000000</td>\n",
       "      <td>0.000000</td>\n",
       "      <td>1.0</td>\n",
       "      <td>0.0</td>\n",
       "      <td>0.000000</td>\n",
       "      <td>0.000000</td>\n",
       "      <td>0.000000</td>\n",
       "      <td>1.0</td>\n",
       "      <td>0.000000</td>\n",
       "      <td>3.000000</td>\n",
       "    </tr>\n",
       "    <tr>\n",
       "      <th>25%</th>\n",
       "      <td>0.0</td>\n",
       "      <td>0.0</td>\n",
       "      <td>1.393668e+09</td>\n",
       "      <td>0.000393</td>\n",
       "      <td>0.000393</td>\n",
       "      <td>74.256986</td>\n",
       "      <td>124.000000</td>\n",
       "      <td>124.000000</td>\n",
       "      <td>0.0</td>\n",
       "      <td>0.0</td>\n",
       "      <td>...</td>\n",
       "      <td>0.000000</td>\n",
       "      <td>0.000000</td>\n",
       "      <td>1.0</td>\n",
       "      <td>0.0</td>\n",
       "      <td>44.000000</td>\n",
       "      <td>0.000000</td>\n",
       "      <td>920.000000</td>\n",
       "      <td>1.0</td>\n",
       "      <td>0.000000</td>\n",
       "      <td>60.000000</td>\n",
       "    </tr>\n",
       "    <tr>\n",
       "      <th>50%</th>\n",
       "      <td>0.0</td>\n",
       "      <td>0.0</td>\n",
       "      <td>1.393668e+09</td>\n",
       "      <td>0.000608</td>\n",
       "      <td>0.000608</td>\n",
       "      <td>255.078000</td>\n",
       "      <td>1552.000000</td>\n",
       "      <td>1552.000000</td>\n",
       "      <td>0.0</td>\n",
       "      <td>0.0</td>\n",
       "      <td>...</td>\n",
       "      <td>0.000000</td>\n",
       "      <td>0.000000</td>\n",
       "      <td>1.0</td>\n",
       "      <td>0.0</td>\n",
       "      <td>44.000000</td>\n",
       "      <td>0.000000</td>\n",
       "      <td>1646.000000</td>\n",
       "      <td>1.0</td>\n",
       "      <td>0.000000</td>\n",
       "      <td>1488.000000</td>\n",
       "    </tr>\n",
       "    <tr>\n",
       "      <th>75%</th>\n",
       "      <td>0.0</td>\n",
       "      <td>0.0</td>\n",
       "      <td>1.393669e+09</td>\n",
       "      <td>0.000965</td>\n",
       "      <td>0.000965</td>\n",
       "      <td>852.944268</td>\n",
       "      <td>1552.000000</td>\n",
       "      <td>1552.000000</td>\n",
       "      <td>0.0</td>\n",
       "      <td>0.0</td>\n",
       "      <td>...</td>\n",
       "      <td>0.000000</td>\n",
       "      <td>0.000000</td>\n",
       "      <td>1.0</td>\n",
       "      <td>0.0</td>\n",
       "      <td>44.000000</td>\n",
       "      <td>0.000000</td>\n",
       "      <td>2812.000000</td>\n",
       "      <td>1.0</td>\n",
       "      <td>0.000000</td>\n",
       "      <td>1488.000000</td>\n",
       "    </tr>\n",
       "    <tr>\n",
       "      <th>max</th>\n",
       "      <td>0.0</td>\n",
       "      <td>0.0</td>\n",
       "      <td>1.393669e+09</td>\n",
       "      <td>0.344335</td>\n",
       "      <td>0.344335</td>\n",
       "      <td>1200.289872</td>\n",
       "      <td>1570.000000</td>\n",
       "      <td>1570.000000</td>\n",
       "      <td>0.0</td>\n",
       "      <td>0.0</td>\n",
       "      <td>...</td>\n",
       "      <td>1.000000</td>\n",
       "      <td>1.000000</td>\n",
       "      <td>1.0</td>\n",
       "      <td>0.0</td>\n",
       "      <td>314.000000</td>\n",
       "      <td>11.000000</td>\n",
       "      <td>4095.000000</td>\n",
       "      <td>1.0</td>\n",
       "      <td>3.000000</td>\n",
       "      <td>1508.000000</td>\n",
       "    </tr>\n",
       "  </tbody>\n",
       "</table>\n",
       "<p>8 rows × 76 columns</p>\n",
       "</div>"
      ],
      "text/plain": [
       "       frame.interface_id  frame.offset_shift  frame.time_epoch  \\\n",
       "count            313248.0            313248.0      3.132480e+05   \n",
       "mean                  0.0                 0.0      1.393669e+09   \n",
       "std                   0.0                 0.0      3.968335e+02   \n",
       "min                   0.0                 0.0      1.393668e+09   \n",
       "25%                   0.0                 0.0      1.393668e+09   \n",
       "50%                   0.0                 0.0      1.393668e+09   \n",
       "75%                   0.0                 0.0      1.393669e+09   \n",
       "max                   0.0                 0.0      1.393669e+09   \n",
       "\n",
       "       frame.time_delta  frame.time_delta_displayed  frame.time_relative  \\\n",
       "count     313248.000000               313248.000000        313248.000000   \n",
       "mean           0.001238                    0.001238           419.131540   \n",
       "std            0.003632                    0.003632           396.833483   \n",
       "min            0.000000                    0.000000             0.000000   \n",
       "25%            0.000393                    0.000393            74.256986   \n",
       "50%            0.000608                    0.000608           255.078000   \n",
       "75%            0.000965                    0.000965           852.944268   \n",
       "max            0.344335                    0.344335          1200.289872   \n",
       "\n",
       "           frame.len  frame.cap_len  frame.marked  frame.ignored  ...  \\\n",
       "count  313248.000000  313248.000000      313248.0       313248.0  ...   \n",
       "mean      892.088681     892.088681           0.0            0.0  ...   \n",
       "std       713.371196     713.371196           0.0            0.0  ...   \n",
       "min        65.000000      65.000000           0.0            0.0  ...   \n",
       "25%       124.000000     124.000000           0.0            0.0  ...   \n",
       "50%      1552.000000    1552.000000           0.0            0.0  ...   \n",
       "75%      1552.000000    1552.000000           0.0            0.0  ...   \n",
       "max      1570.000000    1570.000000           0.0            0.0  ...   \n",
       "\n",
       "       wlan.fc.pwrmgt  wlan.fc.moredata  wlan.fc.protected  wlan.fc.order  \\\n",
       "count   313248.000000     313248.000000           313248.0       313248.0   \n",
       "mean         0.000354          0.008897                1.0            0.0   \n",
       "std          0.018821          0.093904                0.0            0.0   \n",
       "min          0.000000          0.000000                1.0            0.0   \n",
       "25%          0.000000          0.000000                1.0            0.0   \n",
       "50%          0.000000          0.000000                1.0            0.0   \n",
       "75%          0.000000          0.000000                1.0            0.0   \n",
       "max          1.000000          1.000000                1.0            0.0   \n",
       "\n",
       "       wlan.duration      wlan.frag       wlan.seq  wlan.fcs_good  \\\n",
       "count  313248.000000  313248.000000  313248.000000       313248.0   \n",
       "mean       80.225144       0.121674    1849.670600            1.0   \n",
       "std        98.175003       0.522946    1158.063441            0.0   \n",
       "min         0.000000       0.000000       0.000000            1.0   \n",
       "25%        44.000000       0.000000     920.000000            1.0   \n",
       "50%        44.000000       0.000000    1646.000000            1.0   \n",
       "75%        44.000000       0.000000    2812.000000            1.0   \n",
       "max       314.000000      11.000000    4095.000000            1.0   \n",
       "\n",
       "        wlan.wep.key       data.len  \n",
       "count  313248.000000  313248.000000  \n",
       "mean        0.065405     828.889611  \n",
       "std         0.250803     712.901695  \n",
       "min         0.000000       3.000000  \n",
       "25%         0.000000      60.000000  \n",
       "50%         0.000000    1488.000000  \n",
       "75%         0.000000    1488.000000  \n",
       "max         3.000000    1508.000000  \n",
       "\n",
       "[8 rows x 76 columns]"
      ]
     },
     "execution_count": 19,
     "metadata": {},
     "output_type": "execute_result"
    }
   ],
   "source": [
    "X_test.describe()"
   ]
  },
  {
   "cell_type": "code",
   "execution_count": 20,
   "metadata": {},
   "outputs": [
    {
     "data": {
      "text/plain": [
       "normal    277960\n",
       "attack     35288\n",
       "Name: class, dtype: int64"
      ]
     },
     "execution_count": 20,
     "metadata": {},
     "output_type": "execute_result"
    }
   ],
   "source": [
    "y_test.value_counts()"
   ]
  },
  {
   "cell_type": "markdown",
   "metadata": {},
   "source": [
    "<h2>Preprocessing and Feature Scaling   </h2> "
   ]
  },
  {
   "cell_type": "code",
   "execution_count": 21,
   "metadata": {},
   "outputs": [],
   "source": [
    "sc=StandardScaler()\n",
    "sc.fit(X_train)\n",
    "scaled_X_train=sc.transform(X_train)\n",
    "\n",
    "sc1=StandardScaler()\n",
    "sc1.fit(X_test)\n",
    "scaled_X_test=sc1.transform(X_test)"
   ]
  },
  {
   "cell_type": "code",
   "execution_count": 22,
   "metadata": {},
   "outputs": [
    {
     "data": {
      "text/html": [
       "<div>\n",
       "<style scoped>\n",
       "    .dataframe tbody tr th:only-of-type {\n",
       "        vertical-align: middle;\n",
       "    }\n",
       "\n",
       "    .dataframe tbody tr th {\n",
       "        vertical-align: top;\n",
       "    }\n",
       "\n",
       "    .dataframe thead th {\n",
       "        text-align: right;\n",
       "    }\n",
       "</style>\n",
       "<table border=\"1\" class=\"dataframe\">\n",
       "  <thead>\n",
       "    <tr style=\"text-align: right;\">\n",
       "      <th></th>\n",
       "      <th>frame.interface_id</th>\n",
       "      <th>frame.offset_shift</th>\n",
       "      <th>frame.time_epoch</th>\n",
       "      <th>frame.time_delta</th>\n",
       "      <th>frame.time_delta_displayed</th>\n",
       "      <th>frame.time_relative</th>\n",
       "      <th>frame.len</th>\n",
       "      <th>frame.cap_len</th>\n",
       "      <th>frame.marked</th>\n",
       "      <th>frame.ignored</th>\n",
       "      <th>...</th>\n",
       "      <th>wlan.fc.pwrmgt</th>\n",
       "      <th>wlan.fc.moredata</th>\n",
       "      <th>wlan.fc.protected</th>\n",
       "      <th>wlan.fc.order</th>\n",
       "      <th>wlan.duration</th>\n",
       "      <th>wlan.frag</th>\n",
       "      <th>wlan.seq</th>\n",
       "      <th>wlan.fcs_good</th>\n",
       "      <th>wlan.wep.key</th>\n",
       "      <th>data.len</th>\n",
       "    </tr>\n",
       "  </thead>\n",
       "  <tbody>\n",
       "    <tr>\n",
       "      <th>17</th>\n",
       "      <td>0</td>\n",
       "      <td>0.0</td>\n",
       "      <td>1.393661e+09</td>\n",
       "      <td>0.002270</td>\n",
       "      <td>0.002270</td>\n",
       "      <td>0.217518</td>\n",
       "      <td>1524</td>\n",
       "      <td>1524</td>\n",
       "      <td>0</td>\n",
       "      <td>0</td>\n",
       "      <td>...</td>\n",
       "      <td>0</td>\n",
       "      <td>0</td>\n",
       "      <td>1</td>\n",
       "      <td>0</td>\n",
       "      <td>44</td>\n",
       "      <td>0</td>\n",
       "      <td>96</td>\n",
       "      <td>1</td>\n",
       "      <td>0</td>\n",
       "      <td>1460</td>\n",
       "    </tr>\n",
       "    <tr>\n",
       "      <th>18</th>\n",
       "      <td>0</td>\n",
       "      <td>0.0</td>\n",
       "      <td>1.393661e+09</td>\n",
       "      <td>0.000621</td>\n",
       "      <td>0.000621</td>\n",
       "      <td>0.218139</td>\n",
       "      <td>124</td>\n",
       "      <td>124</td>\n",
       "      <td>0</td>\n",
       "      <td>0</td>\n",
       "      <td>...</td>\n",
       "      <td>0</td>\n",
       "      <td>0</td>\n",
       "      <td>1</td>\n",
       "      <td>0</td>\n",
       "      <td>44</td>\n",
       "      <td>0</td>\n",
       "      <td>1217</td>\n",
       "      <td>1</td>\n",
       "      <td>0</td>\n",
       "      <td>60</td>\n",
       "    </tr>\n",
       "    <tr>\n",
       "      <th>20</th>\n",
       "      <td>0</td>\n",
       "      <td>0.0</td>\n",
       "      <td>1.393661e+09</td>\n",
       "      <td>0.000144</td>\n",
       "      <td>0.000144</td>\n",
       "      <td>0.229118</td>\n",
       "      <td>153</td>\n",
       "      <td>153</td>\n",
       "      <td>0</td>\n",
       "      <td>0</td>\n",
       "      <td>...</td>\n",
       "      <td>0</td>\n",
       "      <td>0</td>\n",
       "      <td>1</td>\n",
       "      <td>0</td>\n",
       "      <td>44</td>\n",
       "      <td>0</td>\n",
       "      <td>97</td>\n",
       "      <td>1</td>\n",
       "      <td>0</td>\n",
       "      <td>89</td>\n",
       "    </tr>\n",
       "    <tr>\n",
       "      <th>28</th>\n",
       "      <td>0</td>\n",
       "      <td>0.0</td>\n",
       "      <td>1.393661e+09</td>\n",
       "      <td>0.021711</td>\n",
       "      <td>0.021711</td>\n",
       "      <td>0.367359</td>\n",
       "      <td>124</td>\n",
       "      <td>124</td>\n",
       "      <td>0</td>\n",
       "      <td>0</td>\n",
       "      <td>...</td>\n",
       "      <td>0</td>\n",
       "      <td>0</td>\n",
       "      <td>1</td>\n",
       "      <td>0</td>\n",
       "      <td>44</td>\n",
       "      <td>0</td>\n",
       "      <td>1220</td>\n",
       "      <td>1</td>\n",
       "      <td>0</td>\n",
       "      <td>60</td>\n",
       "    </tr>\n",
       "    <tr>\n",
       "      <th>31</th>\n",
       "      <td>0</td>\n",
       "      <td>0.0</td>\n",
       "      <td>1.393661e+09</td>\n",
       "      <td>0.000058</td>\n",
       "      <td>0.000058</td>\n",
       "      <td>0.380933</td>\n",
       "      <td>124</td>\n",
       "      <td>124</td>\n",
       "      <td>0</td>\n",
       "      <td>0</td>\n",
       "      <td>...</td>\n",
       "      <td>0</td>\n",
       "      <td>0</td>\n",
       "      <td>1</td>\n",
       "      <td>0</td>\n",
       "      <td>44</td>\n",
       "      <td>0</td>\n",
       "      <td>99</td>\n",
       "      <td>1</td>\n",
       "      <td>0</td>\n",
       "      <td>60</td>\n",
       "    </tr>\n",
       "    <tr>\n",
       "      <th>...</th>\n",
       "      <td>...</td>\n",
       "      <td>...</td>\n",
       "      <td>...</td>\n",
       "      <td>...</td>\n",
       "      <td>...</td>\n",
       "      <td>...</td>\n",
       "      <td>...</td>\n",
       "      <td>...</td>\n",
       "      <td>...</td>\n",
       "      <td>...</td>\n",
       "      <td>...</td>\n",
       "      <td>...</td>\n",
       "      <td>...</td>\n",
       "      <td>...</td>\n",
       "      <td>...</td>\n",
       "      <td>...</td>\n",
       "      <td>...</td>\n",
       "      <td>...</td>\n",
       "      <td>...</td>\n",
       "      <td>...</td>\n",
       "      <td>...</td>\n",
       "    </tr>\n",
       "    <tr>\n",
       "      <th>1795504</th>\n",
       "      <td>0</td>\n",
       "      <td>0.0</td>\n",
       "      <td>1.393665e+09</td>\n",
       "      <td>0.015341</td>\n",
       "      <td>0.015341</td>\n",
       "      <td>3599.043342</td>\n",
       "      <td>112</td>\n",
       "      <td>112</td>\n",
       "      <td>0</td>\n",
       "      <td>0</td>\n",
       "      <td>...</td>\n",
       "      <td>0</td>\n",
       "      <td>0</td>\n",
       "      <td>1</td>\n",
       "      <td>0</td>\n",
       "      <td>48</td>\n",
       "      <td>0</td>\n",
       "      <td>2608</td>\n",
       "      <td>1</td>\n",
       "      <td>0</td>\n",
       "      <td>48</td>\n",
       "    </tr>\n",
       "    <tr>\n",
       "      <th>1795511</th>\n",
       "      <td>0</td>\n",
       "      <td>0.0</td>\n",
       "      <td>1.393665e+09</td>\n",
       "      <td>0.013841</td>\n",
       "      <td>0.013841</td>\n",
       "      <td>3599.086311</td>\n",
       "      <td>112</td>\n",
       "      <td>112</td>\n",
       "      <td>0</td>\n",
       "      <td>0</td>\n",
       "      <td>...</td>\n",
       "      <td>0</td>\n",
       "      <td>0</td>\n",
       "      <td>1</td>\n",
       "      <td>0</td>\n",
       "      <td>48</td>\n",
       "      <td>0</td>\n",
       "      <td>2609</td>\n",
       "      <td>1</td>\n",
       "      <td>0</td>\n",
       "      <td>48</td>\n",
       "    </tr>\n",
       "    <tr>\n",
       "      <th>1795551</th>\n",
       "      <td>0</td>\n",
       "      <td>0.0</td>\n",
       "      <td>1.393665e+09</td>\n",
       "      <td>0.000421</td>\n",
       "      <td>0.000421</td>\n",
       "      <td>3599.323495</td>\n",
       "      <td>1524</td>\n",
       "      <td>1524</td>\n",
       "      <td>0</td>\n",
       "      <td>0</td>\n",
       "      <td>...</td>\n",
       "      <td>0</td>\n",
       "      <td>0</td>\n",
       "      <td>1</td>\n",
       "      <td>0</td>\n",
       "      <td>44</td>\n",
       "      <td>0</td>\n",
       "      <td>0</td>\n",
       "      <td>1</td>\n",
       "      <td>0</td>\n",
       "      <td>1460</td>\n",
       "    </tr>\n",
       "    <tr>\n",
       "      <th>1795556</th>\n",
       "      <td>0</td>\n",
       "      <td>0.0</td>\n",
       "      <td>1.393665e+09</td>\n",
       "      <td>0.001861</td>\n",
       "      <td>0.001861</td>\n",
       "      <td>3599.375225</td>\n",
       "      <td>1523</td>\n",
       "      <td>1523</td>\n",
       "      <td>0</td>\n",
       "      <td>0</td>\n",
       "      <td>...</td>\n",
       "      <td>0</td>\n",
       "      <td>0</td>\n",
       "      <td>1</td>\n",
       "      <td>0</td>\n",
       "      <td>44</td>\n",
       "      <td>0</td>\n",
       "      <td>1</td>\n",
       "      <td>1</td>\n",
       "      <td>0</td>\n",
       "      <td>1459</td>\n",
       "    </tr>\n",
       "    <tr>\n",
       "      <th>1795561</th>\n",
       "      <td>0</td>\n",
       "      <td>0.0</td>\n",
       "      <td>1.393665e+09</td>\n",
       "      <td>0.000267</td>\n",
       "      <td>0.000267</td>\n",
       "      <td>3599.425846</td>\n",
       "      <td>440</td>\n",
       "      <td>440</td>\n",
       "      <td>0</td>\n",
       "      <td>0</td>\n",
       "      <td>...</td>\n",
       "      <td>0</td>\n",
       "      <td>0</td>\n",
       "      <td>1</td>\n",
       "      <td>0</td>\n",
       "      <td>44</td>\n",
       "      <td>0</td>\n",
       "      <td>729</td>\n",
       "      <td>1</td>\n",
       "      <td>0</td>\n",
       "      <td>376</td>\n",
       "    </tr>\n",
       "  </tbody>\n",
       "</table>\n",
       "<p>885744 rows × 76 columns</p>\n",
       "</div>"
      ],
      "text/plain": [
       "         frame.interface_id  frame.offset_shift  frame.time_epoch  \\\n",
       "17                        0                 0.0      1.393661e+09   \n",
       "18                        0                 0.0      1.393661e+09   \n",
       "20                        0                 0.0      1.393661e+09   \n",
       "28                        0                 0.0      1.393661e+09   \n",
       "31                        0                 0.0      1.393661e+09   \n",
       "...                     ...                 ...               ...   \n",
       "1795504                   0                 0.0      1.393665e+09   \n",
       "1795511                   0                 0.0      1.393665e+09   \n",
       "1795551                   0                 0.0      1.393665e+09   \n",
       "1795556                   0                 0.0      1.393665e+09   \n",
       "1795561                   0                 0.0      1.393665e+09   \n",
       "\n",
       "         frame.time_delta  frame.time_delta_displayed  frame.time_relative  \\\n",
       "17               0.002270                    0.002270             0.217518   \n",
       "18               0.000621                    0.000621             0.218139   \n",
       "20               0.000144                    0.000144             0.229118   \n",
       "28               0.021711                    0.021711             0.367359   \n",
       "31               0.000058                    0.000058             0.380933   \n",
       "...                   ...                         ...                  ...   \n",
       "1795504          0.015341                    0.015341          3599.043342   \n",
       "1795511          0.013841                    0.013841          3599.086311   \n",
       "1795551          0.000421                    0.000421          3599.323495   \n",
       "1795556          0.001861                    0.001861          3599.375225   \n",
       "1795561          0.000267                    0.000267          3599.425846   \n",
       "\n",
       "         frame.len  frame.cap_len  frame.marked  frame.ignored  ...  \\\n",
       "17            1524           1524             0              0  ...   \n",
       "18             124            124             0              0  ...   \n",
       "20             153            153             0              0  ...   \n",
       "28             124            124             0              0  ...   \n",
       "31             124            124             0              0  ...   \n",
       "...            ...            ...           ...            ...  ...   \n",
       "1795504        112            112             0              0  ...   \n",
       "1795511        112            112             0              0  ...   \n",
       "1795551       1524           1524             0              0  ...   \n",
       "1795556       1523           1523             0              0  ...   \n",
       "1795561        440            440             0              0  ...   \n",
       "\n",
       "         wlan.fc.pwrmgt  wlan.fc.moredata  wlan.fc.protected  wlan.fc.order  \\\n",
       "17                    0                 0                  1              0   \n",
       "18                    0                 0                  1              0   \n",
       "20                    0                 0                  1              0   \n",
       "28                    0                 0                  1              0   \n",
       "31                    0                 0                  1              0   \n",
       "...                 ...               ...                ...            ...   \n",
       "1795504               0                 0                  1              0   \n",
       "1795511               0                 0                  1              0   \n",
       "1795551               0                 0                  1              0   \n",
       "1795556               0                 0                  1              0   \n",
       "1795561               0                 0                  1              0   \n",
       "\n",
       "         wlan.duration  wlan.frag  wlan.seq  wlan.fcs_good  wlan.wep.key  \\\n",
       "17                  44          0        96              1             0   \n",
       "18                  44          0      1217              1             0   \n",
       "20                  44          0        97              1             0   \n",
       "28                  44          0      1220              1             0   \n",
       "31                  44          0        99              1             0   \n",
       "...                ...        ...       ...            ...           ...   \n",
       "1795504             48          0      2608              1             0   \n",
       "1795511             48          0      2609              1             0   \n",
       "1795551             44          0         0              1             0   \n",
       "1795556             44          0         1              1             0   \n",
       "1795561             44          0       729              1             0   \n",
       "\n",
       "         data.len  \n",
       "17           1460  \n",
       "18             60  \n",
       "20             89  \n",
       "28             60  \n",
       "31             60  \n",
       "...           ...  \n",
       "1795504        48  \n",
       "1795511        48  \n",
       "1795551      1460  \n",
       "1795556      1459  \n",
       "1795561       376  \n",
       "\n",
       "[885744 rows x 76 columns]"
      ]
     },
     "execution_count": 22,
     "metadata": {},
     "output_type": "execute_result"
    }
   ],
   "source": [
    "X_train"
   ]
  },
  {
   "cell_type": "code",
   "execution_count": 23,
   "metadata": {},
   "outputs": [
    {
     "name": "stdout",
     "output_type": "stream",
     "text": [
      "frame.interface_id              int64\n",
      "frame.offset_shift            float64\n",
      "frame.time_epoch              float64\n",
      "frame.time_delta              float64\n",
      "frame.time_delta_displayed    float64\n",
      "                               ...   \n",
      "wlan.frag                       int64\n",
      "wlan.seq                        int64\n",
      "wlan.fcs_good                   int64\n",
      "wlan.wep.key                    int64\n",
      "data.len                        int64\n",
      "Length: 76, dtype: object\n"
     ]
    }
   ],
   "source": [
    "print(X_train.dtypes)"
   ]
  },
  {
   "cell_type": "markdown",
   "metadata": {},
   "source": [
    "<h2>Encoding the label data</h2>"
   ]
  },
  {
   "cell_type": "code",
   "execution_count": 24,
   "metadata": {},
   "outputs": [
    {
     "name": "stdout",
     "output_type": "stream",
     "text": [
      "[[ 0.          0.         -2.16853389 ...  0.         -0.18997616\n",
      "   0.79605402]\n",
      " [ 0.          0.         -2.16853315 ...  0.         -0.18997616\n",
      "  -1.20725951]\n",
      " [ 0.          0.         -2.16851995 ...  0.         -0.18997616\n",
      "  -1.1657623 ]\n",
      " ...\n",
      " [ 0.          0.          2.15675522 ...  0.         -0.18997616\n",
      "   0.79605402]\n",
      " [ 0.          0.          2.15681739 ...  0.         -0.18997616\n",
      "   0.79462309]\n",
      " [ 0.          0.          2.15687822 ...  0.         -0.18997616\n",
      "  -0.75508302]]\n",
      "float64\n"
     ]
    }
   ],
   "source": [
    "print(scaled_X_train)\n",
    "print(scaled_X_train.dtype)\n"
   ]
  },
  {
   "cell_type": "code",
   "execution_count": 25,
   "metadata": {},
   "outputs": [],
   "source": [
    "encoder = LabelEncoder()\n",
    "encoded_y=encoder.fit_transform(y_train)\n",
    "enc_y_test=encoder.fit_transform(y_test)"
   ]
  },
  {
   "cell_type": "code",
   "execution_count": 26,
   "metadata": {},
   "outputs": [
    {
     "data": {
      "text/plain": [
       "array(['attack', 'normal'], dtype=object)"
      ]
     },
     "execution_count": 26,
     "metadata": {},
     "output_type": "execute_result"
    }
   ],
   "source": [
    "encoder.classes_"
   ]
  },
  {
   "cell_type": "code",
   "execution_count": 27,
   "metadata": {},
   "outputs": [
    {
     "data": {
      "text/plain": [
       "array([1, 1, 1, ..., 1, 1, 1])"
      ]
     },
     "execution_count": 27,
     "metadata": {},
     "output_type": "execute_result"
    }
   ],
   "source": [
    "enc_y_test"
   ]
  },
  {
   "cell_type": "markdown",
   "metadata": {},
   "source": [
    "<h2>Changing it to Categorical </h2>"
   ]
  },
  {
   "cell_type": "code",
   "execution_count": 28,
   "metadata": {},
   "outputs": [
    {
     "data": {
      "text/plain": [
       "array([[0., 1.],\n",
       "       [0., 1.],\n",
       "       [0., 1.],\n",
       "       ...,\n",
       "       [0., 1.],\n",
       "       [0., 1.],\n",
       "       [0., 1.]], dtype=float32)"
      ]
     },
     "execution_count": 28,
     "metadata": {},
     "output_type": "execute_result"
    }
   ],
   "source": [
    "cat_y_train=to_categorical(encoded_y)\n",
    "cat_y_train"
   ]
  },
  {
   "cell_type": "code",
   "execution_count": 29,
   "metadata": {},
   "outputs": [
    {
     "data": {
      "text/plain": [
       "array([[0., 1.],\n",
       "       [0., 1.],\n",
       "       [0., 1.],\n",
       "       ...,\n",
       "       [0., 1.],\n",
       "       [0., 1.],\n",
       "       [0., 1.]], dtype=float32)"
      ]
     },
     "execution_count": 29,
     "metadata": {},
     "output_type": "execute_result"
    }
   ],
   "source": [
    "cat_y_test=to_categorical(enc_y_test)\n",
    "cat_y_test"
   ]
  },
  {
   "cell_type": "markdown",
   "metadata": {},
   "source": [
    "<h2>Using Dense Neural Network (DNN) with Binary Classification </h2>"
   ]
  },
  {
   "cell_type": "code",
   "execution_count": 30,
   "metadata": {},
   "outputs": [
    {
     "name": "stdout",
     "output_type": "stream",
     "text": [
      "WARNING:tensorflow:From C:\\Users\\Naresh\\anaconda3\\lib\\site-packages\\tensorflow\\python\\ops\\resource_variable_ops.py:435: colocate_with (from tensorflow.python.framework.ops) is deprecated and will be removed in a future version.\n",
      "Instructions for updating:\n",
      "Colocations handled automatically by placer.\n",
      "Model: \"sequential_1\"\n",
      "_________________________________________________________________\n",
      "Layer (type)                 Output Shape              Param #   \n",
      "=================================================================\n",
      "dense_1 (Dense)              (None, 50)                3850      \n",
      "_________________________________________________________________\n",
      "dropout_1 (Dropout)          (None, 50)                0         \n",
      "_________________________________________________________________\n",
      "dense_2 (Dense)              (None, 50)                2550      \n",
      "_________________________________________________________________\n",
      "dropout_2 (Dropout)          (None, 50)                0         \n",
      "_________________________________________________________________\n",
      "dense_3 (Dense)              (None, 2)                 102       \n",
      "=================================================================\n",
      "Total params: 6,502\n",
      "Trainable params: 6,502\n",
      "Non-trainable params: 0\n",
      "_________________________________________________________________\n"
     ]
    }
   ],
   "source": [
    "#Neural Network(Multiclass/Categorical Crossentropy)\n",
    "model2 = Sequential()\n",
    "model2.add(Dense(50, input_shape=(scaled_X_train.shape[1],), activation='relu'))\n",
    "model2.add(Dropout(0.3))\n",
    "\n",
    "model2.add(Dense(50, activation='relu'))\n",
    "model2.add(Dropout(0.3))\n",
    "\n",
    "model2.add(Dense(2, activation='sigmoid'))\n",
    "\n",
    "model2.compile(loss='binary_crossentropy', optimizer ='adam', metrics=['accuracy'])\n",
    "model2.summary()"
   ]
  },
  {
   "cell_type": "code",
   "execution_count": 31,
   "metadata": {},
   "outputs": [],
   "source": [
    "from keras.callbacks import EarlyStopping\n",
    "\n",
    "earlystop = EarlyStopping(monitor = 'val_loss', min_delta = 0, patience = 3,\n",
    "                          verbose = 1, restore_best_weights = True)         "
   ]
  },
  {
   "cell_type": "code",
   "execution_count": 32,
   "metadata": {},
   "outputs": [
    {
     "name": "stdout",
     "output_type": "stream",
     "text": [
      "WARNING:tensorflow:From C:\\Users\\Naresh\\anaconda3\\lib\\site-packages\\tensorflow\\python\\ops\\math_ops.py:3066: to_int32 (from tensorflow.python.ops.math_ops) is deprecated and will be removed in a future version.\n",
      "Instructions for updating:\n",
      "Use tf.cast instead.\n",
      "Train on 797169 samples, validate on 88575 samples\n",
      "Epoch 1/10\n",
      "797169/797169 [==============================] - 11s 14us/step - loss: 0.0090 - accuracy: 0.9979 - val_loss: 0.1671 - val_accuracy: 0.9743\n",
      "Epoch 2/10\n",
      "797169/797169 [==============================] - 11s 14us/step - loss: 0.0020 - accuracy: 0.9997 - val_loss: 0.2312 - val_accuracy: 0.9721\n",
      "Epoch 3/10\n",
      "797169/797169 [==============================] - 13s 16us/step - loss: 0.0015 - accuracy: 0.9998 - val_loss: 0.1315 - val_accuracy: 0.9751\n",
      "Epoch 4/10\n",
      "797169/797169 [==============================] - 14s 18us/step - loss: 0.0015 - accuracy: 0.9998 - val_loss: 0.0786 - val_accuracy: 0.9811\n",
      "Epoch 5/10\n",
      "797169/797169 [==============================] - 16s 20us/step - loss: 0.0014 - accuracy: 0.9998 - val_loss: 0.2229 - val_accuracy: 0.9727\n",
      "Epoch 6/10\n",
      "797169/797169 [==============================] - 15s 19us/step - loss: 0.0013 - accuracy: 0.9998 - val_loss: 0.1731 - val_accuracy: 0.9759\n",
      "Epoch 7/10\n",
      "797169/797169 [==============================] - 14s 17us/step - loss: 0.0014 - accuracy: 0.9998 - val_loss: 0.2513 - val_accuracy: 0.9726\n",
      "Restoring model weights from the end of the best epoch\n",
      "Epoch 00007: early stopping\n"
     ]
    }
   ],
   "source": [
    "hist=model2.fit(scaled_X_train,cat_y_train,batch_size=128,validation_split=0.1,\n",
    "               callbacks=[earlystop],epochs=10, verbose=1)"
   ]
  },
  {
   "cell_type": "code",
   "execution_count": 33,
   "metadata": {},
   "outputs": [
    {
     "name": "stdout",
     "output_type": "stream",
     "text": [
      "313248/313248 [==============================] - 5s 15us/step\n"
     ]
    }
   ],
   "source": [
    "model2_loss, model2_accuracy = model2.evaluate(scaled_X_test,cat_y_test)"
   ]
  },
  {
   "cell_type": "code",
   "execution_count": 34,
   "metadata": {},
   "outputs": [
    {
     "name": "stdout",
     "output_type": "stream",
     "text": [
      "Loss :0.38836372685016407,\n",
      "Accuracy of DNN 2 : 0.9558001756668091\n"
     ]
    }
   ],
   "source": [
    "print('Loss :{loss},\\nAccuracy of DNN 2 : {accuracy}'.format(loss= model2_loss,accuracy=model2_accuracy))"
   ]
  },
  {
   "cell_type": "code",
   "execution_count": 35,
   "metadata": {
    "scrolled": true
   },
   "outputs": [
    {
     "data": {
      "image/png": "[encoded data removed]",
      "text/plain": [
       "<Figure size 432x288 with 1 Axes>"
      ]
     },
     "metadata": {
      "needs_background": "light"
     },
     "output_type": "display_data"
    }
   ],
   "source": [
    "import matplotlib.pyplot as plt\n",
    "\n",
    "acc = hist.history['accuracy']\n",
    "val_acc = hist.history['val_accuracy']\n",
    "loss = hist.history['loss']\n",
    "val_loss = hist.history['val_loss']\n",
    "\n",
    "epochs = range(1, len(acc) + 1)\n",
    "\n",
    "# \"bo\" is for \"blue dot\"\n",
    "plt.plot(epochs, loss, 'bo', label='Training loss')\n",
    "# b is for \"solid blue line\"\n",
    "plt.plot(epochs, val_loss, 'b', label='Validation loss')\n",
    "plt.title('Training and validation loss')\n",
    "plt.xlabel('Epochs')\n",
    "plt.ylabel('Loss')\n",
    "plt.legend()\n",
    "\n",
    "plt.show()"
   ]
  },
  {
   "cell_type": "code",
   "execution_count": 36,
   "metadata": {
    "scrolled": true
   },
   "outputs": [
    {
     "data": {
      "image/png": "[encoded data removed]",
      "text/plain": [
       "<Figure size 432x288 with 1 Axes>"
      ]
     },
     "metadata": {
      "needs_background": "light"
     },
     "output_type": "display_data"
    }
   ],
   "source": [
    "acc_values = hist.history['accuracy']\n",
    "val_acc_values = hist.history['val_accuracy']\n",
    "\n",
    "plt.plot(epochs, acc, 'bo', label='Training acc')\n",
    "plt.plot(epochs, val_acc, 'b', label='Validation acc')\n",
    "plt.title('Training and validation accuracy')\n",
    "plt.xlabel('Epochs')\n",
    "plt.ylabel('Loss')\n",
    "plt.legend()\n",
    "\n",
    "plt.show()"
   ]
  },
  {
   "cell_type": "markdown",
   "metadata": {},
   "source": [
    "<h2>Predicting the Model</h2>"
   ]
  },
  {
   "cell_type": "code",
   "execution_count": 37,
   "metadata": {},
   "outputs": [],
   "source": [
    "model2_pred= model2.predict_classes(scaled_X_test)"
   ]
  },
  {
   "cell_type": "code",
   "execution_count": 38,
   "metadata": {},
   "outputs": [],
   "source": [
    "transpose_model2=numpy.transpose([enc_y_test, model2_pred])"
   ]
  },
  {
   "cell_type": "code",
   "execution_count": 39,
   "metadata": {},
   "outputs": [
    {
     "data": {
      "text/plain": [
       "array([[1, 1],\n",
       "       [1, 1],\n",
       "       [1, 1],\n",
       "       ...,\n",
       "       [1, 1],\n",
       "       [1, 1],\n",
       "       [1, 1]], dtype=int64)"
      ]
     },
     "execution_count": 39,
     "metadata": {},
     "output_type": "execute_result"
    }
   ],
   "source": [
    "transpose_model2"
   ]
  },
  {
   "cell_type": "code",
   "execution_count": null,
   "metadata": {},
   "outputs": [],
   "source": []
  },
  {
   "cell_type": "markdown",
   "metadata": {},
   "source": [
    "<h2>Generating the Results </h2>"
   ]
  },
  {
   "cell_type": "code",
   "execution_count": 40,
   "metadata": {},
   "outputs": [
    {
     "data": {
      "text/plain": [
       "array(['attack', 'normal'], dtype=object)"
      ]
     },
     "execution_count": 40,
     "metadata": {},
     "output_type": "execute_result"
    }
   ],
   "source": [
    "encoder.classes_"
   ]
  },
  {
   "cell_type": "code",
   "execution_count": 41,
   "metadata": {},
   "outputs": [],
   "source": [
    "target_names=[encoder.classes_[0], encoder.classes_[1]]"
   ]
  },
  {
   "cell_type": "code",
   "execution_count": 42,
   "metadata": {},
   "outputs": [],
   "source": [
    "result_model2= classification_report(enc_y_test, model2_pred, target_names= target_names)"
   ]
  },
  {
   "cell_type": "code",
   "execution_count": 43,
   "metadata": {},
   "outputs": [
    {
     "name": "stdout",
     "output_type": "stream",
     "text": [
      "              precision    recall  f1-score   support\n",
      "\n",
      "      attack       0.80      0.80      0.80     35288\n",
      "      normal       0.98      0.98      0.98    277960\n",
      "\n",
      "    accuracy                           0.96    313248\n",
      "   macro avg       0.89      0.89      0.89    313248\n",
      "weighted avg       0.96      0.96      0.96    313248\n",
      "\n"
     ]
    }
   ],
   "source": [
    "print(result_model2)"
   ]
  },
  {
   "cell_type": "markdown",
   "metadata": {},
   "source": [
    "<h2>Reshaping to the array to 3-Dimensional array  </h2>"
   ]
  },
  {
   "cell_type": "code",
   "execution_count": 44,
   "metadata": {},
   "outputs": [
    {
     "data": {
      "text/plain": [
       "(885744, 1, 76)"
      ]
     },
     "execution_count": 44,
     "metadata": {},
     "output_type": "execute_result"
    }
   ],
   "source": [
    "#Reshape input to be [samples, time steps, features] to work with LSTM\n",
    "\n",
    "third_X_train = numpy.reshape(scaled_X_train, (scaled_X_train.shape[0], 1, scaled_X_train.shape[1]))\n",
    "third_X_train.shape"
   ]
  },
  {
   "cell_type": "code",
   "execution_count": 45,
   "metadata": {},
   "outputs": [
    {
     "data": {
      "text/plain": [
       "(313248, 1, 76)"
      ]
     },
     "execution_count": 45,
     "metadata": {},
     "output_type": "execute_result"
    }
   ],
   "source": [
    "third_X_test = numpy.reshape(scaled_X_test,(scaled_X_test.shape[0], 1, scaled_X_test.shape[1]))\n",
    "third_X_test.shape"
   ]
  },
  {
   "cell_type": "markdown",
   "metadata": {},
   "source": [
    "<h2>Using Recurrent Neural Network with LSTM </h2>"
   ]
  },
  {
   "cell_type": "code",
   "execution_count": 46,
   "metadata": {},
   "outputs": [
    {
     "name": "stdout",
     "output_type": "stream",
     "text": [
      "Model: \"sequential_2\"\n",
      "_________________________________________________________________\n",
      "Layer (type)                 Output Shape              Param #   \n",
      "=================================================================\n",
      "lstm_1 (LSTM)                (None, 1, 50)             25400     \n",
      "_________________________________________________________________\n",
      "dropout_3 (Dropout)          (None, 1, 50)             0         \n",
      "_________________________________________________________________\n",
      "lstm_2 (LSTM)                (None, 1, 50)             20200     \n",
      "_________________________________________________________________\n",
      "dropout_4 (Dropout)          (None, 1, 50)             0         \n",
      "_________________________________________________________________\n",
      "flatten_1 (Flatten)          (None, 50)                0         \n",
      "_________________________________________________________________\n",
      "dense_4 (Dense)              (None, 2)                 102       \n",
      "=================================================================\n",
      "Total params: 45,702\n",
      "Trainable params: 45,702\n",
      "Non-trainable params: 0\n",
      "_________________________________________________________________\n"
     ]
    }
   ],
   "source": [
    "#Using multiple layer of LSTM\n",
    "multi_lstm_model=Sequential()\n",
    "\n",
    "multi_lstm_model.add(LSTM(50,input_shape=(1, third_X_train.shape[2]),\n",
    "                    return_sequences=True, activation='relu'))\n",
    "multi_lstm_model.add(Dropout(0.3))\n",
    "\n",
    "multi_lstm_model.add(LSTM(50, return_sequences=True, activation='relu'))\n",
    "multi_lstm_model.add(Dropout(0.3))\n",
    "\n",
    "\n",
    "multi_lstm_model.add(Flatten())\n",
    "\n",
    "multi_lstm_model.add(Dense(2, activation='sigmoid'))\n",
    "\n",
    "multi_lstm_model.compile(loss='binary_crossentropy', optimizer='adam', metrics=['accuracy'])\n",
    "\n",
    "multi_lstm_model.summary()"
   ]
  },
  {
   "cell_type": "code",
   "execution_count": 47,
   "metadata": {},
   "outputs": [
    {
     "name": "stdout",
     "output_type": "stream",
     "text": [
      "Train on 752882 samples, validate on 132862 samples\n",
      "Epoch 1/10\n",
      "752882/752882 [==============================] - 29s 39us/step - loss: 0.0120 - accuracy: 0.9976 - val_loss: 0.0643 - val_accuracy: 0.9865\n",
      "Epoch 2/10\n",
      "752882/752882 [==============================] - 29s 38us/step - loss: 0.0023 - accuracy: 0.9997 - val_loss: 0.0840 - val_accuracy: 0.9861\n",
      "Epoch 3/10\n",
      "752882/752882 [==============================] - 29s 39us/step - loss: 0.0020 - accuracy: 0.9997 - val_loss: 0.0689 - val_accuracy: 0.9859\n",
      "Epoch 4/10\n",
      "752882/752882 [==============================] - 25s 33us/step - loss: 0.0018 - accuracy: 0.9998 - val_loss: 0.1050 - val_accuracy: 0.9843\n",
      "Restoring model weights from the end of the best epoch\n",
      "Epoch 00004: early stopping\n"
     ]
    }
   ],
   "source": [
    "history_lstm1=multi_lstm_model.fit(third_X_train, cat_y_train,batch_size=128,\n",
    "               epochs=10, callbacks=[earlystop], validation_split=0.15, verbose=1)"
   ]
  },
  {
   "cell_type": "code",
   "execution_count": 48,
   "metadata": {},
   "outputs": [
    {
     "name": "stdout",
     "output_type": "stream",
     "text": [
      "313248/313248 [==============================] - 7s 21us/step\n"
     ]
    }
   ],
   "source": [
    "lstm1_loss, lstm1_accuracy = multi_lstm_model.evaluate(third_X_test, cat_y_test)"
   ]
  },
  {
   "cell_type": "code",
   "execution_count": 49,
   "metadata": {},
   "outputs": [
    {
     "name": "stdout",
     "output_type": "stream",
     "text": [
      "Loss :0.1910873664349137,\n",
      "Accuracy of LSTM Model : 0.9601114988327026\n"
     ]
    }
   ],
   "source": [
    "print('Loss :{loss},\\nAccuracy of LSTM Model : {accuracy}'.format(loss=lstm1_loss,accuracy=lstm1_accuracy))"
   ]
  },
  {
   "cell_type": "markdown",
   "metadata": {},
   "source": [
    "<h2> Plotting the Training/Validation Loss and Accuracy</h2>"
   ]
  },
  {
   "cell_type": "code",
   "execution_count": 50,
   "metadata": {},
   "outputs": [
    {
     "data": {
      "image/png": "[encoded data removed]",
      "text/plain": [
       "<Figure size 432x288 with 1 Axes>"
      ]
     },
     "metadata": {
      "needs_background": "light"
     },
     "output_type": "display_data"
    }
   ],
   "source": [
    "import matplotlib.pyplot as plt\n",
    "\n",
    "acc = history_lstm1.history['accuracy']\n",
    "val_acc = history_lstm1.history['val_accuracy']\n",
    "loss = history_lstm1.history['loss']\n",
    "val_loss = history_lstm1.history['val_loss']\n",
    "\n",
    "epochs = range(1, len(acc) + 1)\n",
    "\n",
    "# \"bo\" is for \"blue dot\"\n",
    "plt.plot(epochs, loss, 'bo', label='Training loss')\n",
    "# b is for \"solid blue line\"\n",
    "plt.plot(epochs, val_loss,  'b', label='Validation loss')\n",
    "plt.title('Training and validation loss')\n",
    "plt.xlabel('Epochs')\n",
    "plt.ylabel('Loss')\n",
    "plt.legend()\n",
    "\n",
    "plt.show()"
   ]
  },
  {
   "cell_type": "code",
   "execution_count": 51,
   "metadata": {
    "scrolled": true
   },
   "outputs": [
    {
     "data": {
      "image/png": "[encoded data removed]",
      "text/plain": [
       "<Figure size 432x288 with 1 Axes>"
      ]
     },
     "metadata": {
      "needs_background": "light"
     },
     "output_type": "display_data"
    }
   ],
   "source": [
    "acc_values = history_lstm1.history['accuracy']\n",
    "val_acc_values = history_lstm1.history['val_accuracy']\n",
    "\n",
    "plt.plot(epochs, acc, 'bo', label='Training acc')\n",
    "plt.plot(epochs, val_acc, 'b', label='Validation acc')\n",
    "plt.title('Training and validation accuracy')\n",
    "plt.xlabel('Epochs')\n",
    "plt.ylabel('Loss')\n",
    "plt.legend()\n",
    "\n",
    "plt.show()"
   ]
  },
  {
   "cell_type": "markdown",
   "metadata": {},
   "source": [
    "<h2>Predicting the Model and Generating the Outcome </h2>"
   ]
  },
  {
   "cell_type": "code",
   "execution_count": 52,
   "metadata": {},
   "outputs": [],
   "source": [
    "multi_lstm_preds=multi_lstm_model.predict_classes(third_X_test)\n"
   ]
  },
  {
   "cell_type": "code",
   "execution_count": 53,
   "metadata": {},
   "outputs": [],
   "source": [
    "transpose=numpy.transpose([enc_y_test, multi_lstm_preds])"
   ]
  },
  {
   "cell_type": "code",
   "execution_count": 54,
   "metadata": {},
   "outputs": [
    {
     "data": {
      "text/plain": [
       "array([[1, 1],\n",
       "       [1, 1],\n",
       "       [1, 1],\n",
       "       ...,\n",
       "       [1, 1],\n",
       "       [1, 1],\n",
       "       [1, 1]], dtype=int64)"
      ]
     },
     "execution_count": 54,
     "metadata": {},
     "output_type": "execute_result"
    }
   ],
   "source": [
    "transpose"
   ]
  },
  {
   "cell_type": "code",
   "execution_count": 55,
   "metadata": {},
   "outputs": [
    {
     "name": "stdout",
     "output_type": "stream",
     "text": [
      "At line 0 The model predicted : normal , When the Actual is : normal\n",
      "At line 1 The model predicted : normal , When the Actual is : normal\n",
      "At line 2 The model predicted : normal , When the Actual is : normal\n",
      "At line 3 The model predicted : normal , When the Actual is : normal\n",
      "At line 4 The model predicted : normal , When the Actual is : normal\n",
      "At line 5 The model predicted : normal , When the Actual is : normal\n",
      "At line 6 The model predicted : normal , When the Actual is : normal\n",
      "At line 7 The model predicted : normal , When the Actual is : normal\n",
      "At line 8 The model predicted : normal , When the Actual is : normal\n",
      "At line 9 The model predicted : normal , When the Actual is : normal\n",
      "At line 10 The model predicted : normal , When the Actual is : normal\n",
      "At line 11 The model predicted : normal , When the Actual is : normal\n",
      "At line 12 The model predicted : normal , When the Actual is : normal\n",
      "At line 13 The model predicted : normal , When the Actual is : normal\n",
      "At line 14 The model predicted : normal , When the Actual is : normal\n",
      "At line 15 The model predicted : normal , When the Actual is : normal\n",
      "At line 16 The model predicted : normal , When the Actual is : normal\n",
      "At line 17 The model predicted : normal , When the Actual is : normal\n",
      "At line 18 The model predicted : normal , When the Actual is : normal\n",
      "At line 19 The model predicted : normal , When the Actual is : normal\n",
      "At line 20 The model predicted : normal , When the Actual is : normal\n",
      "At line 21 The model predicted : normal , When the Actual is : normal\n",
      "At line 22 The model predicted : normal , When the Actual is : normal\n",
      "At line 23 The model predicted : normal , When the Actual is : normal\n",
      "At line 24 The model predicted : normal , When the Actual is : normal\n",
      "At line 25 The model predicted : normal , When the Actual is : normal\n",
      "At line 26 The model predicted : normal , When the Actual is : normal\n",
      "At line 27 The model predicted : normal , When the Actual is : normal\n",
      "At line 28 The model predicted : normal , When the Actual is : normal\n",
      "At line 29 The model predicted : normal , When the Actual is : normal\n",
      "At line 30 The model predicted : normal , When the Actual is : normal\n",
      "At line 31 The model predicted : normal , When the Actual is : normal\n",
      "At line 32 The model predicted : normal , When the Actual is : normal\n",
      "At line 33 The model predicted : normal , When the Actual is : normal\n",
      "At line 34 The model predicted : normal , When the Actual is : normal\n",
      "At line 35 The model predicted : normal , When the Actual is : normal\n",
      "At line 36 The model predicted : normal , When the Actual is : normal\n",
      "At line 37 The model predicted : normal , When the Actual is : normal\n",
      "At line 38 The model predicted : normal , When the Actual is : normal\n",
      "At line 39 The model predicted : normal , When the Actual is : normal\n",
      "At line 40 The model predicted : normal , When the Actual is : normal\n",
      "At line 41 The model predicted : normal , When the Actual is : normal\n",
      "At line 42 The model predicted : normal , When the Actual is : normal\n",
      "At line 43 The model predicted : normal , When the Actual is : normal\n",
      "At line 44 The model predicted : normal , When the Actual is : normal\n",
      "At line 45 The model predicted : normal , When the Actual is : normal\n",
      "At line 46 The model predicted : normal , When the Actual is : normal\n",
      "At line 47 The model predicted : normal , When the Actual is : normal\n",
      "At line 48 The model predicted : normal , When the Actual is : normal\n",
      "At line 49 The model predicted : normal , When the Actual is : normal\n",
      "At line 50 The model predicted : normal , When the Actual is : normal\n",
      "At line 51 The model predicted : normal , When the Actual is : normal\n",
      "At line 52 The model predicted : normal , When the Actual is : normal\n",
      "At line 53 The model predicted : normal , When the Actual is : normal\n",
      "At line 54 The model predicted : normal , When the Actual is : normal\n",
      "At line 55 The model predicted : normal , When the Actual is : normal\n",
      "At line 56 The model predicted : normal , When the Actual is : normal\n",
      "At line 57 The model predicted : normal , When the Actual is : normal\n",
      "At line 58 The model predicted : normal , When the Actual is : normal\n",
      "At line 59 The model predicted : normal , When the Actual is : normal\n",
      "At line 60 The model predicted : normal , When the Actual is : normal\n",
      "At line 61 The model predicted : normal , When the Actual is : normal\n",
      "At line 62 The model predicted : normal , When the Actual is : normal\n",
      "At line 63 The model predicted : normal , When the Actual is : normal\n",
      "At line 64 The model predicted : normal , When the Actual is : normal\n",
      "At line 65 The model predicted : normal , When the Actual is : normal\n",
      "At line 66 The model predicted : normal , When the Actual is : normal\n",
      "At line 67 The model predicted : normal , When the Actual is : normal\n",
      "At line 68 The model predicted : normal , When the Actual is : normal\n",
      "At line 69 The model predicted : normal , When the Actual is : normal\n",
      "At line 70 The model predicted : normal , When the Actual is : normal\n",
      "At line 71 The model predicted : normal , When the Actual is : normal\n",
      "At line 72 The model predicted : normal , When the Actual is : normal\n",
      "At line 73 The model predicted : normal , When the Actual is : normal\n",
      "At line 74 The model predicted : normal , When the Actual is : normal\n",
      "At line 75 The model predicted : normal , When the Actual is : normal\n",
      "At line 76 The model predicted : normal , When the Actual is : normal\n",
      "At line 77 The model predicted : normal , When the Actual is : normal\n",
      "At line 78 The model predicted : normal , When the Actual is : normal\n",
      "At line 79 The model predicted : normal , When the Actual is : normal\n",
      "At line 80 The model predicted : normal , When the Actual is : normal\n",
      "At line 81 The model predicted : normal , When the Actual is : normal\n",
      "At line 82 The model predicted : normal , When the Actual is : normal\n",
      "At line 83 The model predicted : normal , When the Actual is : normal\n",
      "At line 84 The model predicted : normal , When the Actual is : normal\n",
      "At line 85 The model predicted : normal , When the Actual is : normal\n",
      "At line 86 The model predicted : normal , When the Actual is : normal\n",
      "At line 87 The model predicted : normal , When the Actual is : normal\n",
      "At line 88 The model predicted : normal , When the Actual is : normal\n",
      "At line 89 The model predicted : normal , When the Actual is : normal\n",
      "At line 90 The model predicted : normal , When the Actual is : normal\n",
      "At line 91 The model predicted : normal , When the Actual is : normal\n",
      "At line 92 The model predicted : normal , When the Actual is : normal\n",
      "At line 93 The model predicted : normal , When the Actual is : normal\n",
      "At line 94 The model predicted : normal , When the Actual is : normal\n",
      "At line 95 The model predicted : normal , When the Actual is : normal\n",
      "At line 96 The model predicted : normal , When the Actual is : normal\n",
      "At line 97 The model predicted : normal , When the Actual is : normal\n",
      "At line 98 The model predicted : normal , When the Actual is : normal\n",
      "At line 99 The model predicted : normal , When the Actual is : normal\n"
     ]
    }
   ],
   "source": [
    "#From the below code we can observe the predicted and actual label\n",
    "#come\n",
    "outcome_range=100\n",
    "for i in range(outcome_range):\n",
    "    prediction = encoder.classes_[transpose[i,1]]\n",
    "    actual = encoder.classes_[transpose[i,0]]\n",
    "    print( \"At line\",i, \"The model predicted :\", prediction, \", When the Actual is :\", actual)"
   ]
  },
  {
   "cell_type": "markdown",
   "metadata": {},
   "source": [
    "<h2>Generating Precision/Recall and F1-score Report </h2>"
   ]
  },
  {
   "cell_type": "code",
   "execution_count": 56,
   "metadata": {},
   "outputs": [
    {
     "data": {
      "text/plain": [
       "array(['attack', 'normal'], dtype=object)"
      ]
     },
     "execution_count": 56,
     "metadata": {},
     "output_type": "execute_result"
    }
   ],
   "source": [
    "encoder.classes_"
   ]
  },
  {
   "cell_type": "code",
   "execution_count": 57,
   "metadata": {},
   "outputs": [],
   "source": [
    "target_names=[encoder.classes_[0], encoder.classes_[1]]"
   ]
  },
  {
   "cell_type": "code",
   "execution_count": 58,
   "metadata": {},
   "outputs": [],
   "source": [
    "result_lstm1 = classification_report(enc_y_test, multi_lstm_preds, target_names=target_names)"
   ]
  },
  {
   "cell_type": "code",
   "execution_count": 59,
   "metadata": {
    "scrolled": true
   },
   "outputs": [
    {
     "name": "stdout",
     "output_type": "stream",
     "text": [
      "              precision    recall  f1-score   support\n",
      "\n",
      "      attack       0.81      0.84      0.83     35288\n",
      "      normal       0.98      0.98      0.98    277960\n",
      "\n",
      "    accuracy                           0.96    313248\n",
      "   macro avg       0.90      0.91      0.90    313248\n",
      "weighted avg       0.96      0.96      0.96    313248\n",
      "\n"
     ]
    }
   ],
   "source": [
    "print(result_lstm1)\n",
    "#USING LSTM With more layer and neuron, we may get better result"
   ]
  }
 ],
 "metadata": {
  "kernelspec": {
   "display_name": "Python 3",
   "language": "python",
   "name": "python3"
  },
  "language_info": {
   "codemirror_mode": {
    "name": "ipython",
    "version": 3
   },
   "file_extension": ".py",
   "mimetype": "text/x-python",
   "name": "python",
   "nbconvert_exporter": "python",
   "pygments_lexer": "ipython3",
   "version": "3.7.6"
  }
 },
 "nbformat": 4,
 "nbformat_minor": 4
}
